{
  "nbformat": 4,
  "nbformat_minor": 0,
  "metadata": {
    "colab": {
      "name": "MNIST y ANN - Entrenamiento evaluacion y descarga.ipynb",
      "provenance": [],
      "collapsed_sections": []
    },
    "kernelspec": {
      "display_name": "Python 3",
      "name": "python3"
    },
    "accelerator": "GPU"
  },
  "cells": [
    {
      "cell_type": "markdown",
      "metadata": {
        "id": "LYfFaPms6DmE"
      },
      "source": [
        "# Clasificación de números manuscritos con Redes Neuronales Artificiales (ANN)"
      ]
    },
    {
      "cell_type": "markdown",
      "metadata": {
        "id": "_9fYGK3M6E4Q"
      },
      "source": [
        "En este cuaderno vamos a entrenar un modelo de Percentrón Multicapa para que reconozca números escritos de un sólo dígito. Para ello, vamos a usar el conjunto de datos (o dataset) clásico de MNIST. "
      ]
    },
    {
      "cell_type": "code",
      "metadata": {
        "id": "0trJmd6DjqBZ"
      },
      "source": [
        "# Antes de nada, importamos las librerías que nos puedan hacer falta\n",
        "\n",
        "import tensorflow as tf # Para crear modelos de Aprendizaje Profundo \n",
        "\n",
        "import matplotlib.pyplot as plt # Para graficar imágenes y gráficas de evaluación\n",
        "\n",
        "import numpy as np # Nos permite trabajar con estructuras vectoriales eficientes\n",
        "                   # que son además las que emplea tensorflow \n",
        "\n",
        "import math # Operaciones matemáticas\n",
        "\n",
        "# métodos para calcular métricas y matriz de confusión\n",
        "from sklearn.metrics import confusion_matrix, classification_report \n",
        "\n",
        "import itertools # funciones eficientes sobre elementos iterables"
      ],
      "execution_count": null,
      "outputs": []
    },
    {
      "cell_type": "markdown",
      "metadata": {
        "id": "dfgqcLsb6E6l"
      },
      "source": [
        "## El dataset MNIST"
      ]
    },
    {
      "cell_type": "markdown",
      "metadata": {
        "id": "ECCDYfad6E9I"
      },
      "source": [
        "Este dataset puede considerarse uno de los primeros recursos empleados para sentar las bases del Aprendizaje Profundo o Deep Learning. Contiene varias muestras de dígitos escritos de forma manuscrita, que han sido digitalizados en imágenes de 28x28. \n",
        "\n",
        "Este dataset está disponible para su descarga desde la API de tensorflow, de modo que es muy accesible y flexible, ideal para comenzar a probar modelos de Aprendizaje Automático."
      ]
    },
    {
      "cell_type": "code",
      "metadata": {
        "id": "7FP5258xjs-v",
        "colab": {
          "base_uri": "https://localhost:8080/",
          "height": 89
        },
        "outputId": "db9dcbdf-cf7c-4eaf-de09-08021ba575a7"
      },
      "source": [
        "# Creamos el objeto necesario para extraer el dataset\n",
        "mnist = tf.keras.datasets.mnist\n",
        "\n",
        "# Para llevar a cabo un entrenamiento y comprobar su efectividad, el modo más \n",
        "# simple es dividir el conjunto de datos en subconjuntos de entrenamiento y prueba.\n",
        "# El metodo load_data sin parámetros divide el conjunto de esta forma, separando \n",
        "# además lo que son las entradas (las imagenes 28x28) de las etiquetas (el \n",
        "# dígito -0 al 9- que queda representado en la imagen)\n",
        "(x_train, y_train), (x_test, y_test) = mnist.load_data()\n",
        "\n",
        "\n",
        "n_samples_train = len(x_train)\n",
        "n_samples_test = len(x_test)\n",
        "n_samples = n_samples_train + n_samples_test\n",
        "print(\"La relación de muestras entre los dos subconjuntos es del {:.2%} en \" \n",
        "        \"subconjunto de entrenamiento y del {:.2%}, de prueba\".format(\n",
        "            n_samples_train/n_samples, n_samples_test/n_samples))\n",
        "\n",
        "\n",
        "# Las imágenes están en escala de grises, con una resolución de 256 valores. Es\n",
        "# común en problemas de clasificación realizar una normalización y escalar ese\n",
        "# rango de valores al intervalo [0,1], si bien no es necesario. Puede probarse el\n",
        "# realizar el entrenamiento sin hacer esta conversión.\n",
        "x_train, x_test = x_train / 255.0, x_test / 255.0\n"
      ],
      "execution_count": null,
      "outputs": [
        {
          "output_type": "stream",
          "text": [
            "Downloading data from https://storage.googleapis.com/tensorflow/tf-keras-datasets/mnist.npz\n",
            "11493376/11490434 [==============================] - 0s 0us/step\n",
            "La relación de muestras entre los dos subconjuntos es del 85.71% en subconjunto de entrenamiento y del 14.29%, de prueba\n"
          ],
          "name": "stdout"
        }
      ]
    },
    {
      "cell_type": "code",
      "metadata": {
        "id": "8o8sALTOEskW"
      },
      "source": [
        "# Una pequeña función para graficar muestras aleatorias\n",
        "\n",
        "def random_mnist_sample_plot(n_samples, mnist_set):\n",
        "\n",
        "  rnd_index = np.random.choice(mnist_set.shape[0], size=(n_samples,), replace=False)\n",
        "  subset = mnist_set[rnd_index]\n",
        "\n",
        "  grid_width = 5\n",
        "  grid_length = math.ceil(n_samples/grid_width)\n",
        "  \n",
        "  plt.figure(figsize=(15,10)) # specifying the overall grid size\n",
        "\n",
        "  for i in range(n_samples):\n",
        "      plt.subplot(grid_length,grid_width,i+1)    # the number of images in the grid is 5*5 (25)\n",
        "      plt.imshow(subset[i], cmap='gray')"
      ],
      "execution_count": null,
      "outputs": []
    },
    {
      "cell_type": "code",
      "metadata": {
        "id": "OeAqwRZ_PZc6",
        "colab": {
          "base_uri": "https://localhost:8080/",
          "height": 593
        },
        "outputId": "536a2617-e311-4244-f666-74860f460aaa"
      },
      "source": [
        "# Una muestra del MNIST\n",
        "random_mnist_sample_plot(20, x_train)"
      ],
      "execution_count": null,
      "outputs": [
        {
          "output_type": "display_data",
          "data": {
            "image/png": "[encoded data removed]",
            "text/plain": [
              "<Figure size 1080x720 with 20 Axes>"
            ]
          },
          "metadata": {
            "tags": [],
            "needs_background": "light"
          }
        }
      ]
    },
    {
      "cell_type": "markdown",
      "metadata": {
        "id": "iYHZ09UP6E_q"
      },
      "source": [
        "Algunas de las muestras pueden ser complicadas de identificar su dígito incluso para una persona. Este problema tiene por ello cierta dificultad y es perfecto para probar el comportamiento y efectividad de modelos de Aprendizaje Profundo."
      ]
    },
    {
      "cell_type": "markdown",
      "metadata": {
        "id": "LtXtW217UijY"
      },
      "source": [
        "## Un modelo de Red Neuronal Artificial sencillo"
      ]
    },
    {
      "cell_type": "markdown",
      "metadata": {
        "id": "Ph5Cg_p9Uijd"
      },
      "source": [
        "Vamos a crear un modelo sencillo con el que trabajar. No pretendemos alcanzar el máximo rendimiento, sino ejemplificar todo el proceso de creación, entrenamiento, validación y descarga de un modelo. Por ello, no entraremos en detalle sobre parámetros de entrenamiento ni nos dedicaremos a hacer un procesamiento de análisis y optimización exhaustivo.\n",
        "\n",
        "Los modelos básicos pueden crearse con las clases de la librería de alto nivel Keras, integrado en la propia librería de Tensorflow desde su versión 2.0. Los modelos más típicos son los que \"apilan\" capas de forma sucesiva (propiedad que coincide con una Red Neuronal Multicapa tradicional). Esto puede realizarse a partir de `tf.keras.Sequential`. "
      ]
    },
    {
      "cell_type": "code",
      "metadata": {
        "id": "h3IKyzTCDNGo"
      },
      "source": [
        "\n",
        "\"\"\"\n",
        "# Esta es una forma \"compacta\" de crear un modelo secuencia con una sola línea.\n",
        "\n",
        "model = tf.keras.models.Sequential([\n",
        "  tf.keras.layers.Flatten(input_shape=(28, 28)),\n",
        "  tf.keras.layers.Dense(128, activation='relu'),\n",
        "  tf.keras.layers.Dropout(0.2),\n",
        "  tf.keras.layers.Dense(10, activation='softmax')\n",
        "])\n",
        "\n",
        "\"\"\"\n",
        "\n",
        "# Modelo creado añadiendo capas progresivamente, equivalente al anterior\n",
        "\n",
        "model = tf.keras.models.Sequential() # El modelo secuencial vacio inicialmente\n",
        "\n",
        "model.add(tf.keras.Input(shape=(28, 28))) # Podemos describir la forma de la entrada\n",
        "                                          # como si de una capa se tratase. \n",
        "model.add(tf.keras.layers.Flatten()) # Esta capa \"aplana\" la imagen, es decir, pasa\n",
        "                                     # la matriz de valores a un vector unidimensional.\n",
        "model.add(tf.keras.layers.Dense(128, activation='relu')) # Una capa Densa o Fully-Connected.\n",
        "model.add(tf.keras.layers.Dropout(0.2)) # Empleamos Dropout, una técnica que inhabilita \n",
        "                                        # un % de nodos de la capa anterior de forma aleatoria\n",
        "                                        # durante el entrenamiento, que ayuda a la generalización\n",
        "                                        # del modelo evitando el sobre ajuste de los nodos a los\n",
        "                                        # ejemplos particulares usados.\n",
        "model.add(tf.keras.layers.Dense(10, activation='softmax')) # Una última capa Densa, ya como salida.\n",
        "                                                           # Se la ha dotado de 10 nodos, tantos como\n",
        "                                                           # dígitos diferentes consideramos para su \n",
        "                                                           # clasificación (0 al 9)\n"
      ],
      "execution_count": null,
      "outputs": []
    },
    {
      "cell_type": "code",
      "metadata": {
        "id": "WZMm8zMbbLmr",
        "colab": {
          "base_uri": "https://localhost:8080/",
          "height": 295
        },
        "outputId": "a53c3ac9-098a-4599-9694-b7636a768cfa"
      },
      "source": [
        "model.summary() # Con este método podemos comprobar que nuestra red tiene las \n",
        "                # capas añadidas y ver alguna información adicional"
      ],
      "execution_count": null,
      "outputs": [
        {
          "output_type": "stream",
          "text": [
            "Model: \"sequential\"\n",
            "_________________________________________________________________\n",
            "Layer (type)                 Output Shape              Param #   \n",
            "=================================================================\n",
            "flatten (Flatten)            (None, 784)               0         \n",
            "_________________________________________________________________\n",
            "dense (Dense)                (None, 128)               100480    \n",
            "_________________________________________________________________\n",
            "dropout (Dropout)            (None, 128)               0         \n",
            "_________________________________________________________________\n",
            "dense_1 (Dense)              (None, 10)                1290      \n",
            "=================================================================\n",
            "Total params: 101,770\n",
            "Trainable params: 101,770\n",
            "Non-trainable params: 0\n",
            "_________________________________________________________________\n"
          ],
          "name": "stdout"
        }
      ]
    },
    {
      "cell_type": "markdown",
      "metadata": {
        "id": "BPZ68wASog_I"
      },
      "source": [
        "### Entrenamiento del modelo\n",
        "\n",
        "Elegimos un optimizador y una funcion de perdida para el entrenamiento del modelo."
      ]
    },
    {
      "cell_type": "code",
      "metadata": {
        "id": "T0n5irqjbLpO"
      },
      "source": [
        "# El modelo se inicializa para su entrenamiento con el método compile\n",
        "# El loss SparseCategoricalCrossEntropy permite introducir las etiquetas sin\n",
        "# necesidad de codificarlas en One-Hot\n",
        "model.compile(optimizer='adam',\n",
        "              loss='sparse_categorical_crossentropy',\n",
        "              metrics=['accuracy'])"
      ],
      "execution_count": null,
      "outputs": []
    },
    {
      "cell_type": "markdown",
      "metadata": {
        "id": "ix4mEL65on-w"
      },
      "source": [
        "Finalmente, procedemos al entrenamiento del modelo"
      ]
    },
    {
      "cell_type": "code",
      "metadata": {
        "id": "F7dTAzgHDUh7",
        "colab": {
          "base_uri": "https://localhost:8080/",
          "height": 748
        },
        "outputId": "975ba581-d5c3-4a26-b241-64d603307b17"
      },
      "source": [
        "# Con este método del modelo podemos entrenarlo. El parámetro \"validation_data\"\n",
        "# es opcional y simplemente evalúa el modelo con los datos proporcionados en cada\n",
        "# época, pero no serán empleados para el entrenamiento (en nuestro caso, le hemos\n",
        "# proporcionado el subconjunto de prueba)\n",
        "model.fit(x_train, y_train, validation_data=(x_test, y_test),  epochs=20)"
      ],
      "execution_count": null,
      "outputs": [
        {
          "output_type": "stream",
          "text": [
            "Epoch 1/20\n",
            "1875/1875 [==============================] - 4s 2ms/step - loss: 0.2981 - accuracy: 0.9119 - val_loss: 0.1399 - val_accuracy: 0.9599\n",
            "Epoch 2/20\n",
            "1875/1875 [==============================] - 3s 2ms/step - loss: 0.1449 - accuracy: 0.9569 - val_loss: 0.1046 - val_accuracy: 0.9688\n",
            "Epoch 3/20\n",
            "1875/1875 [==============================] - 4s 2ms/step - loss: 0.1081 - accuracy: 0.9666 - val_loss: 0.0907 - val_accuracy: 0.9721\n",
            "Epoch 4/20\n",
            "1875/1875 [==============================] - 4s 2ms/step - loss: 0.0891 - accuracy: 0.9733 - val_loss: 0.0817 - val_accuracy: 0.9743\n",
            "Epoch 5/20\n",
            "1875/1875 [==============================] - 4s 2ms/step - loss: 0.0763 - accuracy: 0.9763 - val_loss: 0.0745 - val_accuracy: 0.9770\n",
            "Epoch 6/20\n",
            "1875/1875 [==============================] - 4s 2ms/step - loss: 0.0677 - accuracy: 0.9790 - val_loss: 0.0749 - val_accuracy: 0.9782\n",
            "Epoch 7/20\n",
            "1875/1875 [==============================] - 4s 2ms/step - loss: 0.0591 - accuracy: 0.9806 - val_loss: 0.0707 - val_accuracy: 0.9783\n",
            "Epoch 8/20\n",
            "1875/1875 [==============================] - 4s 2ms/step - loss: 0.0543 - accuracy: 0.9820 - val_loss: 0.0768 - val_accuracy: 0.9786\n",
            "Epoch 9/20\n",
            "1875/1875 [==============================] - 4s 2ms/step - loss: 0.0464 - accuracy: 0.9843 - val_loss: 0.0720 - val_accuracy: 0.9789\n",
            "Epoch 10/20\n",
            "1875/1875 [==============================] - 4s 2ms/step - loss: 0.0446 - accuracy: 0.9858 - val_loss: 0.0698 - val_accuracy: 0.9792\n",
            "Epoch 11/20\n",
            "1875/1875 [==============================] - 3s 2ms/step - loss: 0.0415 - accuracy: 0.9862 - val_loss: 0.0740 - val_accuracy: 0.9789\n",
            "Epoch 12/20\n",
            "1875/1875 [==============================] - 3s 2ms/step - loss: 0.0381 - accuracy: 0.9870 - val_loss: 0.0717 - val_accuracy: 0.9789\n",
            "Epoch 13/20\n",
            "1875/1875 [==============================] - 3s 2ms/step - loss: 0.0366 - accuracy: 0.9878 - val_loss: 0.0800 - val_accuracy: 0.9775\n",
            "Epoch 14/20\n",
            "1875/1875 [==============================] - 3s 2ms/step - loss: 0.0337 - accuracy: 0.9884 - val_loss: 0.0784 - val_accuracy: 0.9787\n",
            "Epoch 15/20\n",
            "1875/1875 [==============================] - 4s 2ms/step - loss: 0.0334 - accuracy: 0.9883 - val_loss: 0.0864 - val_accuracy: 0.9780\n",
            "Epoch 16/20\n",
            "1875/1875 [==============================] - 4s 2ms/step - loss: 0.0317 - accuracy: 0.9890 - val_loss: 0.0827 - val_accuracy: 0.9794\n",
            "Epoch 17/20\n",
            "1875/1875 [==============================] - 3s 2ms/step - loss: 0.0287 - accuracy: 0.9901 - val_loss: 0.0821 - val_accuracy: 0.9798\n",
            "Epoch 18/20\n",
            "1875/1875 [==============================] - 4s 2ms/step - loss: 0.0275 - accuracy: 0.9907 - val_loss: 0.0830 - val_accuracy: 0.9797\n",
            "Epoch 19/20\n",
            "1875/1875 [==============================] - 3s 2ms/step - loss: 0.0277 - accuracy: 0.9904 - val_loss: 0.0861 - val_accuracy: 0.9807\n",
            "Epoch 20/20\n",
            "1875/1875 [==============================] - 3s 2ms/step - loss: 0.0277 - accuracy: 0.9904 - val_loss: 0.0879 - val_accuracy: 0.9793\n"
          ],
          "name": "stdout"
        },
        {
          "output_type": "execute_result",
          "data": {
            "text/plain": [
              "<tensorflow.python.keras.callbacks.History at 0x7f3b7023ae80>"
            ]
          },
          "metadata": {
            "tags": []
          },
          "execution_count": 8
        }
      ]
    },
    {
      "cell_type": "markdown",
      "metadata": {
        "id": "utvvaUgU7jXk"
      },
      "source": [
        "### Evaluando el modelo\n",
        "\n",
        "El modo más básico de evaluar un modelo de clasificación es a partir de la métrica de precisión o accuracy. "
      ]
    },
    {
      "cell_type": "code",
      "metadata": {
        "id": "HT7uV0PGjL8i",
        "colab": {
          "base_uri": "https://localhost:8080/",
          "height": 52
        },
        "outputId": "3e64ed8d-7d59-4a84-e87b-c46092e0b8bc"
      },
      "source": [
        "# Cálculo de la precisión con el método evaluate del modelo, empleando el subconjunto de prueba\n",
        "model.evaluate(x_test,  y_test, verbose=2)"
      ],
      "execution_count": null,
      "outputs": [
        {
          "output_type": "stream",
          "text": [
            "313/313 - 0s - loss: 0.0879 - accuracy: 0.9793\n"
          ],
          "name": "stdout"
        },
        {
          "output_type": "execute_result",
          "data": {
            "text/plain": [
              "[0.08787131309509277, 0.9793000221252441]"
            ]
          },
          "metadata": {
            "tags": []
          },
          "execution_count": 9
        }
      ]
    },
    {
      "cell_type": "markdown",
      "metadata": {
        "id": "T4JfEh7kvx6m"
      },
      "source": [
        "Se pueden emplear otro tipo de métricas. Podemos obtener algunas con la ayuda de la librería para Inteligencia Artificial Scikit Learn"
      ]
    },
    {
      "cell_type": "code",
      "metadata": {
        "id": "7TAsi-O5vYUC"
      },
      "source": [
        "def otras_metricas(logits, ground_truth, classes):\n",
        "  logits = np.argmax(logits, axis=1)\n",
        "  print(classification_report(ground_truth, logits,\n",
        "                              target_names=classes))"
      ],
      "execution_count": null,
      "outputs": []
    },
    {
      "cell_type": "code",
      "metadata": {
        "id": "zkNSpAx1wVNh",
        "colab": {
          "base_uri": "https://localhost:8080/",
          "height": 312
        },
        "outputId": "bb60f5fd-5042-421b-cee8-fe000d1a0815"
      },
      "source": [
        "# Llamamos al modelo para que calcule las clasificaciones con el subconjunto de\n",
        "# prueba\n",
        "predicts = model.predict(x_test)\n",
        "\n",
        "# Hallamos las métricas\n",
        "otras_metricas(predicts, y_test, classes=['0', '1', '2', '3', '4', '5', '6', '7', '8', '9'])"
      ],
      "execution_count": null,
      "outputs": [
        {
          "output_type": "stream",
          "text": [
            "              precision    recall  f1-score   support\n",
            "\n",
            "           0       0.99      0.99      0.99       980\n",
            "           1       0.99      0.99      0.99      1135\n",
            "           2       0.98      0.98      0.98      1032\n",
            "           3       0.96      0.99      0.97      1010\n",
            "           4       0.98      0.98      0.98       982\n",
            "           5       0.99      0.96      0.97       892\n",
            "           6       0.98      0.99      0.98       958\n",
            "           7       0.97      0.98      0.98      1028\n",
            "           8       0.97      0.97      0.97       974\n",
            "           9       0.99      0.96      0.97      1009\n",
            "\n",
            "    accuracy                           0.98     10000\n",
            "   macro avg       0.98      0.98      0.98     10000\n",
            "weighted avg       0.98      0.98      0.98     10000\n",
            "\n"
          ],
          "name": "stdout"
        }
      ]
    },
    {
      "cell_type": "markdown",
      "metadata": {
        "id": "_BZAg9TGvYJ6"
      },
      "source": [
        "No obstante, si es interesante saber que la mayor parte de estas métricas se calculan a partir de datos que quedan reflejados en lo que es denominado una **matriz de confusión**, la cual ilustra la cantidad de aciertos y fallos cometidos por el modelo, de forma desglosada. \n",
        "\n",
        "Vamos a mostrar esta matriz para el modelo entrenado."
      ]
    },
    {
      "cell_type": "code",
      "metadata": {
        "id": "zZE7jKH_AA87"
      },
      "source": [
        "# Función que convierte las salidas del modelo en una clase, para que pueda ser \n",
        "# asimilado por la función de cálculo de la matriz de confusión de SciKit Learn\n",
        "def confusion_matrix_v2(logits, ground_truth):\n",
        "  \n",
        "  logits = np.argmax(logits, axis=1)\n",
        "  \n",
        "  cm = confusion_matrix(ground_truth, logits)\n",
        "\n",
        "  return cm\n",
        "\n",
        "\n",
        "# Una función para hacer más atractiva e intuitiva la matriz de confusión\n",
        "def plot_pretty_confusion_matrix(cm, classes,\n",
        "                          normalize=False,\n",
        "                          title='Confusion matrix',\n",
        "                          cmap=plt.cm.Blues):\n",
        "  \"\"\"\n",
        "  This function prints and plots the confusion matrix.\n",
        "  Normalization can be applied by setting `normalize=True`.\n",
        "  \"\"\"\n",
        "  if normalize:\n",
        "      cm = cm.astype('float') / cm.sum(axis=1)[:, np.newaxis]\n",
        "      print(\"Normalized confusion matrix\")\n",
        "  else:\n",
        "      print('Confusion matrix, without normalization')\n",
        "\n",
        "  plt.rcParams[\"figure.figsize\"] = (len(classes),len(classes))\n",
        "\n",
        "  plt.imshow(cm, interpolation='nearest', cmap=cmap)\n",
        "  plt.title(title)\n",
        "  plt.colorbar()\n",
        "  tick_marks = np.arange(len(classes))\n",
        "  plt.xticks(tick_marks, classes, rotation=45)\n",
        "  plt.yticks(tick_marks, classes)\n",
        "\n",
        "  fmt = '.2f' if normalize else 'd'\n",
        "  thresh = cm.max() / 2.\n",
        "  for i, j in itertools.product(range(cm.shape[0]), range(cm.shape[1])):\n",
        "      plt.text(j, i, format(cm[i, j], fmt),\n",
        "                horizontalalignment=\"center\",\n",
        "                color=\"white\" if cm[i, j] > thresh else \"black\")\n",
        "\n",
        "  plt.tight_layout()\n",
        "  plt.ylabel('Etiquetas del dataset')\n",
        "  plt.xlabel('Predicciones/clasificación del modelo')\n"
      ],
      "execution_count": null,
      "outputs": []
    },
    {
      "cell_type": "code",
      "metadata": {
        "id": "yZDr8fZKBJkM",
        "colab": {
          "base_uri": "https://localhost:8080/",
          "height": 747
        },
        "outputId": "c11a3ecf-3145-4903-f65a-7787be927a29"
      },
      "source": [
        "# Calculamos la matriz de confusión de nuestro modelo, comparando los resultados\n",
        "# con las etiquetas del dataset correspondiente a cada muestra\n",
        "cm = confusion_matrix_v2(predicts, y_test)\n",
        "\n",
        "# Mostramos la matriz de confusión de forma intuitiva\n",
        "plot_pretty_confusion_matrix(cm, classes=['0', '1', '2', '3', '4', '5', '6', '7', '8', '9'],\n",
        "                          normalize=True,\n",
        "                          title='Matriz de confusión',\n",
        "                          cmap=plt.cm.Reds)"
      ],
      "execution_count": null,
      "outputs": [
        {
          "output_type": "stream",
          "text": [
            "Normalized confusion matrix\n"
          ],
          "name": "stdout"
        },
        {
          "output_type": "display_data",
          "data": {
            "image/png": "[encoded data removed]",
            "text/plain": [
              "<Figure size 720x720 with 2 Axes>"
            ]
          },
          "metadata": {
            "tags": [],
            "needs_background": "light"
          }
        }
      ]
    },
    {
      "cell_type": "markdown",
      "metadata": {
        "id": "XGqC51LXIsII"
      },
      "source": [
        "### Descarga del modelo\n",
        "\n",
        "El modelo generado puede descargarse, para luego volver a ser cargado y/o usado en otros entornos, para seguir entrenándolo, manipularlo, hacer uso del mismo en un entorno ya desplegado como servicio, etc. "
      ]
    },
    {
      "cell_type": "code",
      "metadata": {
        "id": "1FK3MQBXBx_A",
        "colab": {
          "base_uri": "https://localhost:8080/",
          "height": 159
        },
        "outputId": "ecd31e61-8497-4782-8487-f304671e82dc"
      },
      "source": [
        "# Guardando el modelo (tanto el modelo en sí junto con sus parámetros como los pesos)\n",
        "\n",
        "model.save('mnist_full_model') # Si no se indica extensión, el modelo se \n",
        "                                 # guardará en una carpeta con una serie de \n",
        "                                 # ficheros, entre ellos el modelo en si con \n",
        "                                 # formato protobuf (.pb)\n",
        "\n",
        "model.save('mnist_full_model.h5') # Si se especifica esta extensión, el modelo\n",
        "                                   # queda guardado en un fichero HDF5, propio \n",
        "                                   # de Keras. \n",
        "\n",
        "# Guardado de únicamente los pesos del modelo\n",
        "model.save_weights('mnist_model_weights')"
      ],
      "execution_count": null,
      "outputs": [
        {
          "output_type": "stream",
          "text": [
            "WARNING:tensorflow:From /usr/local/lib/python3.6/dist-packages/tensorflow/python/training/tracking/tracking.py:111: Model.state_updates (from tensorflow.python.keras.engine.training) is deprecated and will be removed in a future version.\n",
            "Instructions for updating:\n",
            "This property should not be used in TensorFlow 2.0, as updates are applied automatically.\n",
            "WARNING:tensorflow:From /usr/local/lib/python3.6/dist-packages/tensorflow/python/training/tracking/tracking.py:111: Layer.updates (from tensorflow.python.keras.engine.base_layer) is deprecated and will be removed in a future version.\n",
            "Instructions for updating:\n",
            "This property should not be used in TensorFlow 2.0, as updates are applied automatically.\n",
            "INFO:tensorflow:Assets written to: mnist_full_model/assets\n"
          ],
          "name": "stdout"
        }
      ]
    },
    {
      "cell_type": "code",
      "metadata": {
        "id": "D5ci5t2VRRFU",
        "colab": {
          "base_uri": "https://localhost:8080/",
          "height": 121
        },
        "outputId": "177d77f6-9382-4dc6-9146-e9e6974fc6b2"
      },
      "source": [
        "# Para poder descargar la carpeta con el modelo protobuf, la comprimimos\n",
        "\n",
        "!zip -r mnist_full_model.zip mnist_full_model"
      ],
      "execution_count": null,
      "outputs": [
        {
          "output_type": "stream",
          "text": [
            "  adding: mnist_full_model/ (stored 0%)\n",
            "  adding: mnist_full_model/assets/ (stored 0%)\n",
            "  adding: mnist_full_model/variables/ (stored 0%)\n",
            "  adding: mnist_full_model/variables/variables.index (deflated 59%)\n",
            "  adding: mnist_full_model/variables/variables.data-00000-of-00001 (deflated 14%)\n",
            "  adding: mnist_full_model/saved_model.pb (deflated 87%)\n"
          ],
          "name": "stdout"
        }
      ]
    },
    {
      "cell_type": "markdown",
      "metadata": {
        "id": "h1RJwSB5MlsM"
      },
      "source": [
        "- **Probamos a cargar el modelo**"
      ]
    },
    {
      "cell_type": "code",
      "metadata": {
        "id": "ECD5jhFGJ5o6",
        "colab": {
          "base_uri": "https://localhost:8080/",
          "height": 52
        },
        "outputId": "c334a91c-aff6-4050-e0d1-bbc12db4ecdb"
      },
      "source": [
        "# Carga del modelo de Keras, y de nuevo calculamos la precisión para comprobar \n",
        "# de forma simple que el modelo no haya sido perturbado\n",
        "\n",
        "model_returns = tf.keras.models.load_model('mnist_full_model.h5')\n",
        "\n",
        "\n",
        "model_returns.evaluate(x_test,  y_test, verbose=2)"
      ],
      "execution_count": null,
      "outputs": [
        {
          "output_type": "stream",
          "text": [
            "313/313 - 0s - loss: 0.0879 - accuracy: 0.0983\n"
          ],
          "name": "stdout"
        },
        {
          "output_type": "execute_result",
          "data": {
            "text/plain": [
              "[0.08787131309509277, 0.09830000251531601]"
            ]
          },
          "metadata": {
            "tags": []
          },
          "execution_count": 16
        }
      ]
    },
    {
      "cell_type": "markdown",
      "metadata": {
        "id": "Xc6xnh_3OOAY"
      },
      "source": [
        "Probablemente la precisión resultante sea completamente diferente (posiblemente desastrosa). ¿Por qué? Sencillamente porque, aunque el modelo y sus pesos se guardan intactos, no queda guardado absolutamente todo. Entre otras cosas, algunos parámetros de entrenamiento y evaluación no han quedado almacenados y, si no se especifica de nuevo, los métodos de evaluación pueden no ser coherentes con el modo en cómo se entrenó y evaluó el modelo. \n",
        "\n",
        "Para este caso, simplemente vamos a repetir la fase de \"compilación\" del modelo (que realmente no es una compilación per se, se trata de una configuración de los métodos relacionados con el entrenamiento y métricas de evaluación)."
      ]
    },
    {
      "cell_type": "code",
      "metadata": {
        "id": "SkbPsfGnNfR7",
        "colab": {
          "base_uri": "https://localhost:8080/",
          "height": 52
        },
        "outputId": "47bcdd6e-d0ee-40b9-a395-b75d1d5a0b9d"
      },
      "source": [
        "# Entre otras cosas, añadimos la métrica de precisión de nuevo, para que funcione\n",
        "# correctamente el método de evaluación.\n",
        "model_returns.compile(optimizer='adam',\n",
        "              loss='sparse_categorical_crossentropy',\n",
        "              metrics=['accuracy'])\n",
        "\n",
        "model_returns.evaluate(x_test,  y_test, verbose=2)"
      ],
      "execution_count": null,
      "outputs": [
        {
          "output_type": "stream",
          "text": [
            "313/313 - 0s - loss: 0.0879 - accuracy: 0.9793\n"
          ],
          "name": "stdout"
        },
        {
          "output_type": "execute_result",
          "data": {
            "text/plain": [
              "[0.08787131309509277, 0.9793000221252441]"
            ]
          },
          "metadata": {
            "tags": []
          },
          "execution_count": 17
        }
      ]
    },
    {
      "cell_type": "markdown",
      "metadata": {
        "id": "Ois1LkxA-qva"
      },
      "source": [
        "### Extracción de datos para análisis con CUBE AI\n",
        "\n",
        "Si se quiere analizar con datos reales y no con datos generados automáticamente por X-CUBE-AI, ha de proporcionarse los datos en formato csv y en una forma adecuada. Esta última fase ilustra cómo hacerlo para el dataset MNIST."
      ]
    },
    {
      "cell_type": "code",
      "metadata": {
        "id": "L2oD1f-YCrj4",
        "colab": {
          "base_uri": "https://localhost:8080/",
          "height": 52
        },
        "outputId": "c65a259e-6716-44cd-e975-f842f472388e"
      },
      "source": [
        "test_shape = np.shape(x_test)\n",
        "print('test set shape: ', test_shape)\n",
        "# Es necesario hacer un reshape, de tal modo que cada imagen pase de ser una \n",
        "# matriz a ser un vector lineal, cada fila sucediéndose\n",
        "dataset_prepared_for_csv = np.reshape(x_test, (test_shape[0], test_shape[1]*test_shape[2]))\n",
        "print('test set shape (flatten): ', np.shape(dataset_prepared_for_csv))\n"
      ],
      "execution_count": null,
      "outputs": [
        {
          "output_type": "stream",
          "text": [
            "test set shape:  (10000, 28, 28)\n",
            "test set shape (flatten):  (10000, 784)\n"
          ],
          "name": "stdout"
        }
      ]
    },
    {
      "cell_type": "code",
      "metadata": {
        "id": "eWgogeMnCrj7"
      },
      "source": [
        "# Con numpy se puede generar un fichero de texto plano a partir de un numpy array\n",
        "np.savetxt(\"test_set_input.csv\", dataset_prepared_for_csv, delimiter=\",\")"
      ],
      "execution_count": null,
      "outputs": []
    },
    {
      "cell_type": "code",
      "metadata": {
        "id": "I3JtXGB9Crj-",
        "colab": {
          "base_uri": "https://localhost:8080/",
          "height": 139
        },
        "outputId": "44fbd9fe-1a9f-4082-ff64-0730f02c55cb"
      },
      "source": [
        "# También podemos descargar las etiquetas. En ese caso, tenemos que convertirlas en one-hot\n",
        "\n",
        "logits_one_hot = tf.keras.utils.to_categorical(y_test, num_classes=10)\n",
        "print(logits_one_hot)\n",
        "np.savetxt(\"test_set_output_one_hot.csv\", logits_one_hot,delimiter=\",\")"
      ],
      "execution_count": null,
      "outputs": [
        {
          "output_type": "stream",
          "text": [
            "[[0. 0. 0. ... 1. 0. 0.]\n",
            " [0. 0. 1. ... 0. 0. 0.]\n",
            " [0. 1. 0. ... 0. 0. 0.]\n",
            " ...\n",
            " [0. 0. 0. ... 0. 0. 0.]\n",
            " [0. 0. 0. ... 0. 0. 0.]\n",
            " [0. 0. 0. ... 0. 0. 0.]]\n"
          ],
          "name": "stdout"
        }
      ]
    },
    {
      "cell_type": "markdown",
      "metadata": {
        "id": "4JhbfiBj7rek"
      },
      "source": [
        "### Final\n",
        "Con esto se finaliza la parte básica. A continuación, se continúa con una parte adicional, pero experimental, consistente en crear un modelo cuantizado.\n",
        "\n",
        "====================================================="
      ]
    },
    {
      "cell_type": "markdown",
      "metadata": {
        "id": "kq7a3grZPz6a"
      },
      "source": [
        "## Cuantización del modelo\n",
        "\n",
        "Los modelos de Deep Learning son computacionalmente muy costosos. Consumen gran cantidad de recursos, lo que repercute en los tiempos de ejecución e incluso imposibilita su ejecución en computadores de bajas prestaciones. \n",
        "\n",
        "Una de las técnicas que pretenden paliar este hecho en cierta medida es la cuantización de un modelo. Consiste dicho de forma simplificada en disminuir la \n",
        "resolución de los parámetros del modelo (o incluso adicionalmente los datos de entrada), para así poder ser soportadas por computadores cuya bajada de resolución le permita trabajar con el modelo y operar de forma más eficiente. \n",
        "\n",
        "La principal consecuencia de este cambio de resolución es que la efectividad del modelo puede verse mermada. No obstante, dadas las particularidades de las arquitecturas de Aprendizaje Profundo, con tantos parámetros el modelo resultante tiende a ser robusto y no perder demasiada precisión cuando se realiza esta conversión. Existen además distintas técnicas de cuantización para paliar en mayor cuantía esta disminución en la efectividad del modelo, que como suele ser habitual va de la mano de una mayor complejidad en el procedimiento de cuantización. En esta sección veremos algunos métodos simples y compararemos la efectividad con el modelo original sin cuantizar. \n",
        "\n",
        "### TF-Lite: la sublibrería de TF que permite la cuantización\n",
        "\n",
        "TF-Lite son un conjunto de herramientas, en forma de funciones, contenidos en la librería TensorFlow cuyo propósito es transformar los modelos de Aprendizaje Profundo para que sean asimilables por computadores de prestaciones más humildes, como móviles con procesadores y gráficas que no tienen la arquitectura NVIDIA, o microcontroladores, entre otros. \n",
        "\n",
        "### **Diferentes modos de conversión**"
      ]
    },
    {
      "cell_type": "code",
      "metadata": {
        "id": "oVVOrEorPM00"
      },
      "source": [
        "# Cargamos el modelo generado previamente\n",
        "\n",
        "clasical_model = tf.keras.models.load_model('mnist_full_model.h5')"
      ],
      "execution_count": null,
      "outputs": []
    },
    {
      "cell_type": "markdown",
      "metadata": {
        "id": "kOy-Ss-aT_L_"
      },
      "source": [
        "- #### **Conversión básica**\n",
        "\n",
        "Una vez generado y cargado el modelo, creamos el conversor y con él convertimos el modelo:"
      ]
    },
    {
      "cell_type": "code",
      "metadata": {
        "id": "gEpBtZ1UT63z",
        "colab": {
          "base_uri": "https://localhost:8080/",
          "height": 35
        },
        "outputId": "53a4e14e-58dc-46ae-abe1-d629c32d4c33"
      },
      "source": [
        "# Creamos el conversor\n",
        "converter = tf.lite.TFLiteConverter.from_keras_model(clasical_model)\n",
        "\n",
        "# Creamos el modelo de TFLite a partir del conversor\n",
        "tflite_model = converter.convert()"
      ],
      "execution_count": null,
      "outputs": [
        {
          "output_type": "stream",
          "text": [
            "INFO:tensorflow:Assets written to: /tmp/tmpex5nyt_6/assets\n"
          ],
          "name": "stdout"
        }
      ]
    },
    {
      "cell_type": "code",
      "metadata": {
        "id": "_u54L60CyHaT"
      },
      "source": [
        "with open('mnist_basic_float_model.tflite', 'wb') as f:\n",
        "  f.write(tflite_model)"
      ],
      "execution_count": null,
      "outputs": []
    },
    {
      "cell_type": "markdown",
      "metadata": {
        "id": "5OmOG5m-NC-b"
      },
      "source": [
        "La conversión que se ha hecho es muy básica, usando los parámetros por defecto con los que se configura el conversor. Según el dispositivo en el que se pretenda integrar el modelo como predictor/clasificador, la configuración deberá variar para adaptar el modelo a las características del hardware.\n",
        "\n",
        "A partir de ahora, nos vamos a centrar en reducir los pesos y demás parámetros del modelo en una resolución de integer de 8 bits.\n",
        "\n",
        "- #### **Conversión con cuantización a 8bits (post-training quantization)**\n",
        "\n",
        "\n",
        "1. **Dynamic range quantization** \n",
        "\n",
        "El siguiente ejemplo ilustra el modo más básico para hacer una cuantización (dynamic range quantization)."
      ]
    },
    {
      "cell_type": "code",
      "metadata": {
        "id": "0N1DOyt4KuYo",
        "colab": {
          "base_uri": "https://localhost:8080/",
          "height": 52
        },
        "outputId": "394fbdb0-2cc4-45aa-9de1-2280861f79ae"
      },
      "source": [
        "# Creamos el conversor\n",
        "converter = tf.lite.TFLiteConverter.from_keras_model(clasical_model)\n",
        "# Variamos la configuración, con esta sentencia configuramos el conversor para que cuantice a 8bits\n",
        "converter.optimizations = [tf.lite.Optimize.DEFAULT]\n",
        "# Creamos el modelo de TFLite a partir del conversor\n",
        "tflite_quant_model = converter.convert()"
      ],
      "execution_count": null,
      "outputs": [
        {
          "output_type": "stream",
          "text": [
            "INFO:tensorflow:Assets written to: /tmp/tmphv5mzwi0/assets\n"
          ],
          "name": "stdout"
        },
        {
          "output_type": "stream",
          "text": [
            "INFO:tensorflow:Assets written to: /tmp/tmphv5mzwi0/assets\n"
          ],
          "name": "stderr"
        }
      ]
    },
    {
      "cell_type": "code",
      "metadata": {
        "id": "oxSaH9KsUmEL",
        "colab": {
          "base_uri": "https://localhost:8080/",
          "height": 243
        },
        "outputId": "12ff13e7-0f3e-445d-f4f1-3e1ec7d1c3df"
      },
      "source": [
        "# Load the TFLite model and allocate tensors.\n",
        "interpreter = tf.lite.Interpreter(model_content=tflite_quant_model)\n",
        "interpreter.allocate_tensors()\n",
        "\n",
        "# Get input and output tensors.\n",
        "input_details = interpreter.get_input_details()\n",
        "output_details = interpreter.get_output_details()\n",
        "\n",
        "\n",
        "# print('input_details: ', input_details)\n",
        "# print('output_details: ', output_details)\n",
        "\n",
        "\n",
        "# Test the model on random input data.\n",
        "input_shape = input_details[0]['shape']\n",
        "\n",
        "# Es necesario que tanto la forma como el tipo de los datos que componen el \n",
        "# dataset sean los que admita el modelo TFLite configurado. \n",
        "x_test_type_float32 = x_test.astype(np.float32)\n",
        "#print('Tipo de los datos tras la conversión: ', type(x_test_type_float32[0,0,0]))\n",
        "input_data = x_test_type_float32\n",
        "\n",
        "#print('shape', np.shape(input_data))\n",
        "interpreter.resize_tensor_input(input_details[0]['index'],np.shape(input_data))\n",
        "interpreter.allocate_tensors()\n",
        "\n",
        "interpreter.set_tensor(input_details[0]['index'], input_data)\n",
        "\n",
        "interpreter.invoke()\n",
        "\n",
        "# The function `get_tensor()` returns a copy of the tensor data.\n",
        "# Use `tensor()` in order to get a pointer to the tensor.\n",
        "output_data = interpreter.get_tensor(output_details[0]['index'])\n",
        "print(output_data)"
      ],
      "execution_count": null,
      "outputs": [
        {
          "output_type": "stream",
          "text": [
            "[[1.4875121e-10 4.1927980e-16 3.3928114e-11 ... 1.0000000e+00\n",
            "  6.1238367e-12 1.1593736e-09]\n",
            " [6.6562563e-12 5.5829055e-08 9.9999440e-01 ... 2.9416504e-29\n",
            "  4.3363628e-14 4.3936972e-27]\n",
            " [2.2563635e-12 9.9998069e-01 5.6161030e-06 ... 2.8445447e-06\n",
            "  9.2975970e-06 1.2153221e-11]\n",
            " ...\n",
            " [2.0330923e-19 1.7674530e-19 5.2475590e-17 ... 1.0042373e-07\n",
            "  2.3318697e-10 3.2388164e-07]\n",
            " [1.8569956e-14 7.2995965e-16 9.4795043e-19 ... 5.4409466e-14\n",
            "  8.3704521e-08 6.2529481e-16]\n",
            " [2.2769264e-15 5.3713336e-30 9.9939473e-14 ... 6.3698465e-20\n",
            "  2.3571123e-15 6.0239913e-22]]\n"
          ],
          "name": "stdout"
        }
      ]
    },
    {
      "cell_type": "code",
      "metadata": {
        "id": "cwUEkCCQw9D-",
        "colab": {
          "base_uri": "https://localhost:8080/",
          "height": 312
        },
        "outputId": "7411993e-a18e-42f8-f326-6fbf6de8065a"
      },
      "source": [
        "otras_metricas(output_data, y_test, classes=['0', '1', '2', '3', '4', '5', '6', '7', '8', '9'])"
      ],
      "execution_count": null,
      "outputs": [
        {
          "output_type": "stream",
          "text": [
            "              precision    recall  f1-score   support\n",
            "\n",
            "           0       0.98      0.99      0.99       980\n",
            "           1       0.99      0.99      0.99      1135\n",
            "           2       0.97      0.98      0.98      1032\n",
            "           3       0.99      0.97      0.98      1010\n",
            "           4       0.98      0.97      0.98       982\n",
            "           5       0.98      0.98      0.98       892\n",
            "           6       0.98      0.98      0.98       958\n",
            "           7       0.97      0.98      0.98      1028\n",
            "           8       0.98      0.98      0.98       974\n",
            "           9       0.96      0.98      0.97      1009\n",
            "\n",
            "    accuracy                           0.98     10000\n",
            "   macro avg       0.98      0.98      0.98     10000\n",
            "weighted avg       0.98      0.98      0.98     10000\n",
            "\n"
          ],
          "name": "stdout"
        }
      ]
    },
    {
      "cell_type": "code",
      "metadata": {
        "id": "2kaBzLzMndkS",
        "colab": {
          "base_uri": "https://localhost:8080/",
          "height": 747
        },
        "outputId": "48d2617f-9dbe-4362-e62b-cbed2d0bb2b8"
      },
      "source": [
        "# Calculamos la matriz de confusión de nuestro modelo, comparando los resultados\n",
        "# con las etiquetas del dataset correspondiente a cada muestra\n",
        "cm = confusion_matrix_v2(output_data, y_test)\n",
        "\n",
        "# Mostramos la matriz de confusión de forma intuitiva\n",
        "plot_pretty_confusion_matrix(cm, classes=['0', '1', '2', '3', '4', '5', '6', '7', '8', '9'],\n",
        "                          normalize=True,\n",
        "                          title='Matriz de confusión',\n",
        "                          cmap=plt.cm.Reds)"
      ],
      "execution_count": null,
      "outputs": [
        {
          "output_type": "stream",
          "text": [
            "Normalized confusion matrix\n"
          ],
          "name": "stdout"
        },
        {
          "output_type": "display_data",
          "data": {
            "image/png": "[encoded data removed]",
            "text/plain": [
              "<Figure size 720x720 with 2 Axes>"
            ]
          },
          "metadata": {
            "tags": [],
            "needs_background": "light"
          }
        }
      ]
    },
    {
      "cell_type": "code",
      "metadata": {
        "id": "crpsgClCyiUU"
      },
      "source": [
        "with open('mnist_dynamic_range_quantized_model.tflite', 'wb') as f:\n",
        "  f.write(tflite_quant_model)"
      ],
      "execution_count": null,
      "outputs": []
    },
    {
      "cell_type": "markdown",
      "metadata": {
        "id": "yABwzvAtU8un"
      },
      "source": [
        "2. **Full integer quantization** \n",
        "\n",
        "El modelo anterior, como se ha podido entrever en algunos pasos, aún trabaja con datos a la entrada con coma flotante. Del mismo modo, las salidas del modelo también son en coma flotante. \n",
        "\n",
        "Cuantizar completamente un modelo, esto es, convertir entradas y salidas a una resolución reducida apropiada, puede ser necesario (y de hecho lo es en numerosos casos) para ser ejecutados en microcontroladores y otros computadores, como las novedosas Unidades de Procesamiento Tensorial (TPU) del tipo Edge. \n",
        "\n",
        "Un modelo previamente entranado puede cuantizarse totalmente haciendo uso de TFLite, pero requiere involucrar datos representativos con los que fue entrenado. Son necesarios (presumiblemente) para un reajuste de los valores de salida respecto de las entradas. De forma resumida, se debe calibrar el rango de activación de los nodos de salida (de inferencia, de clasificación) con respecto a las entradas, por lo que es necesario dar ejemplos representantivos en el proceso de conversión para una correcta calibración."
      ]
    },
    {
      "cell_type": "code",
      "metadata": {
        "id": "QqP8j_8EgR0K"
      },
      "source": [
        "# Vamos a usar los datos empleados en el entrenamiento como muestras representativas\n",
        "\n",
        "representative_input = x_train.astype(np.float32)\n",
        "# Nótese que no se usan nada más que las entradas. Como se trata de una\n",
        "# recalibración del modelo para el cambio de resolución, lo que se emplean son \n",
        "# las salidas del modelo cuando se le introduce un dato, no las etiquetas que\n",
        "# usamos como los valores \"verdaderos\". Es interesante saberlo porque esto implica\n",
        "# que no tenemos por qué ceñirnos a datos etiquetados para el calibrado, podemos\n",
        "# usar datos sin etiquetar, los datos de test, o todos a la vez.\n"
      ],
      "execution_count": null,
      "outputs": []
    },
    {
      "cell_type": "code",
      "metadata": {
        "id": "Q0BCZPqaa6IM",
        "colab": {
          "base_uri": "https://localhost:8080/",
          "height": 52
        },
        "outputId": "4cf2ec2c-3b78-4657-c0f9-6bec1634e262"
      },
      "source": [
        "# Para incluir las muestras representativas en el conversor, es necesario \n",
        "# proporcionarlas como un generador. Por ello, es necesario crear dicho generador\n",
        "# que convierta los datos en un formato apropiado.\n",
        "\n",
        "mnist_ds = tf.data.Dataset.from_tensor_slices((representative_input)).batch(1)\n",
        "\n",
        "def representative_data_gen():\n",
        "    #for i in range(len(representative_input)):\n",
        "    for image in mnist_ds.take(100):\n",
        "      # image = next(iter(representative_input))\n",
        "      # image = tf.cast(image / 255., tf.float32) # Esto sería necesario en este\n",
        "                                                  # caso, porque estamos usando\n",
        "                                                  # un conjunto con valores y tipo  \n",
        "                                                  # tal y como los que necesita \n",
        "                                                  # el modelo.\n",
        "      # image = tf.expand_dims(image, 0)          # Igual con esto\n",
        "\n",
        "      # Se puede poner un print para no estar en incertidumbre. El proceso puede\n",
        "      # durar según la complejidad del modelo.\n",
        "      #print('Sample #', image)\n",
        "      yield [image]\n",
        "\n",
        "converter = tf.lite.TFLiteConverter.from_keras_model(clasical_model)\n",
        "converter.optimizations = [tf.lite.Optimize.DEFAULT]\n",
        "converter.target_spec.supported_ops = [tf.lite.OpsSet.TFLITE_BUILTINS_INT8]\n",
        "converter.inference_input_type = tf.uint8\n",
        "converter.inference_output_type = tf.uint8\n",
        "converter.representative_dataset = representative_data_gen\n",
        "\n",
        "tflite_full_quant_model = converter.convert()"
      ],
      "execution_count": null,
      "outputs": [
        {
          "output_type": "stream",
          "text": [
            "INFO:tensorflow:Assets written to: /tmp/tmp5dng3rxr/assets\n"
          ],
          "name": "stdout"
        },
        {
          "output_type": "stream",
          "text": [
            "INFO:tensorflow:Assets written to: /tmp/tmp5dng3rxr/assets\n"
          ],
          "name": "stderr"
        }
      ]
    },
    {
      "cell_type": "code",
      "metadata": {
        "id": "n-hYRvuHA9iq"
      },
      "source": [
        "def adapt_dataset_to_quantized_model(dataset, interpeter_input_details):\n",
        "    \n",
        "    # Check if the input type is quantized, then rescale input data to uint8\n",
        "    if interpeter_input_details['dtype'] == np.uint8:\n",
        "      print('quantization details: ', interpeter_input_details[\"quantization\"])\n",
        "      input_scale, input_zero_point = interpeter_input_details[\"quantization\"]\n",
        "    resulting_dataset = dataset / input_scale + input_zero_point\n",
        "\n",
        "    resulting_dataset = resulting_dataset.astype(interpeter_input_details[\"dtype\"])\n",
        "\n",
        "    return resulting_dataset\n",
        "\n"
      ],
      "execution_count": null,
      "outputs": []
    },
    {
      "cell_type": "code",
      "metadata": {
        "id": "MUUQ8pl1e88x",
        "colab": {
          "base_uri": "https://localhost:8080/",
          "height": 211
        },
        "outputId": "c494cb05-d6cd-44d9-9255-b7acb8ddd211"
      },
      "source": [
        "# Load the TFLite model and allocate tensors.\n",
        "interpreter = tf.lite.Interpreter(model_content=tflite_full_quant_model)\n",
        "interpreter.allocate_tensors()\n",
        "\n",
        "# Get input and output tensors.\n",
        "input_details = interpreter.get_input_details()\n",
        "output_details = interpreter.get_output_details()\n",
        "\n",
        "\n",
        "print('input_details: ', input_details)\n",
        "print('output_details: ', output_details)\n",
        "\n",
        "\n",
        "# Test the model on random input data.\n",
        "input_shape = input_details[0]['shape']\n",
        "\n",
        "# Es necesario que tanto la forma como el tipo de los datos que componen el \n",
        "# dataset sean los que admita el modelo TFLite configurado. \n",
        "\n",
        "# FAIL ROTUNDO: x_test_type_int8 = x_test.astype(np.uint8)\n",
        "\n",
        "x_test_type_int8 = adapt_dataset_to_quantized_model(x_test, input_details[0])\n",
        "\n",
        "#print('Tipo de los datos tras la conversión: ', type(x_test_type_float32[0,0,0]))\n",
        "input_data = x_test_type_int8\n",
        "\n",
        "#print('shape', np.shape(input_data))\n",
        "interpreter.resize_tensor_input(input_details[0]['index'],np.shape(input_data))\n",
        "interpreter.allocate_tensors()\n",
        "\n",
        "interpreter.set_tensor(input_details[0]['index'], input_data)\n",
        "\n",
        "interpreter.invoke()\n",
        "\n",
        "# The function `get_tensor()` returns a copy of the tensor data.\n",
        "# Use `tensor()` in order to get a pointer to the tensor.\n",
        "output_data = interpreter.get_tensor(output_details[0]['index'])\n",
        "print(output_data)"
      ],
      "execution_count": null,
      "outputs": [
        {
          "output_type": "stream",
          "text": [
            "input_details:  [{'name': 'input_1', 'index': 10, 'shape': array([ 1, 28, 28], dtype=int32), 'shape_signature': array([-1, 28, 28], dtype=int32), 'dtype': <class 'numpy.uint8'>, 'quantization': (0.003921568859368563, 0), 'quantization_parameters': {'scales': array([0.00392157], dtype=float32), 'zero_points': array([0], dtype=int32), 'quantized_dimension': 0}, 'sparsity_parameters': {}}]\n",
            "output_details:  [{'name': 'Identity', 'index': 11, 'shape': array([ 1, 10], dtype=int32), 'shape_signature': array([-1, 10], dtype=int32), 'dtype': <class 'numpy.uint8'>, 'quantization': (0.00390625, 0), 'quantization_parameters': {'scales': array([0.00390625], dtype=float32), 'zero_points': array([0], dtype=int32), 'quantized_dimension': 0}, 'sparsity_parameters': {}}]\n",
            "quantization details:  (0.003921568859368563, 0)\n",
            "[[  0   0   0 ... 255   0   0]\n",
            " [  0   0 255 ...   0   0   0]\n",
            " [  0 255   0 ...   0   0   0]\n",
            " ...\n",
            " [  0   0   0 ...   0   0   0]\n",
            " [  0   0   0 ...   0   0   0]\n",
            " [  0   0   0 ...   0   0   0]]\n"
          ],
          "name": "stdout"
        }
      ]
    },
    {
      "cell_type": "code",
      "metadata": {
        "id": "BlAgI4jbbVDY",
        "colab": {
          "base_uri": "https://localhost:8080/",
          "height": 312
        },
        "outputId": "f1b460d2-181a-4ec6-fa48-c44476aab7af"
      },
      "source": [
        "otras_metricas(output_data, y_test, classes=['0', '1', '2', '3', '4', '5', '6', '7', '8', '9'])"
      ],
      "execution_count": null,
      "outputs": [
        {
          "output_type": "stream",
          "text": [
            "              precision    recall  f1-score   support\n",
            "\n",
            "           0       0.98      0.99      0.99       980\n",
            "           1       0.99      0.99      0.99      1135\n",
            "           2       0.97      0.98      0.98      1032\n",
            "           3       0.99      0.97      0.98      1010\n",
            "           4       0.98      0.97      0.98       982\n",
            "           5       0.98      0.98      0.98       892\n",
            "           6       0.98      0.98      0.98       958\n",
            "           7       0.97      0.98      0.97      1028\n",
            "           8       0.98      0.97      0.98       974\n",
            "           9       0.96      0.97      0.97      1009\n",
            "\n",
            "    accuracy                           0.98     10000\n",
            "   macro avg       0.98      0.98      0.98     10000\n",
            "weighted avg       0.98      0.98      0.98     10000\n",
            "\n"
          ],
          "name": "stdout"
        }
      ]
    },
    {
      "cell_type": "code",
      "metadata": {
        "id": "7IgcOqReyV6a",
        "colab": {
          "base_uri": "https://localhost:8080/",
          "height": 747
        },
        "outputId": "5c73839c-5f83-4264-fa7e-3381589a0a21"
      },
      "source": [
        "# Calculamos la matriz de confusión de nuestro modelo, comparando los resultados\n",
        "# con las etiquetas del dataset correspondiente a cada muestra\n",
        "cm = confusion_matrix_v2(output_data, y_test)\n",
        "\n",
        "# Mostramos la matriz de confusión de forma intuitiva\n",
        "plot_pretty_confusion_matrix(cm, classes=['0', '1', '2', '3', '4', '5', '6', '7', '8', '9'],\n",
        "                          normalize=True,\n",
        "                          title='Matriz de confusión',\n",
        "                          cmap=plt.cm.Reds)"
      ],
      "execution_count": null,
      "outputs": [
        {
          "output_type": "stream",
          "text": [
            "Normalized confusion matrix\n"
          ],
          "name": "stdout"
        },
        {
          "output_type": "display_data",
          "data": {
            "image/png": "[encoded data removed]",
            "text/plain": [
              "<Figure size 720x720 with 2 Axes>"
            ]
          },
          "metadata": {
            "tags": [],
            "needs_background": "light"
          }
        }
      ]
    },
    {
      "cell_type": "code",
      "metadata": {
        "id": "IEVj2TGg8N-N",
        "colab": {
          "base_uri": "https://localhost:8080/",
          "height": 593
        },
        "outputId": "57e4e58e-cb8a-4722-cfc2-9acc1c7f1fc0"
      },
      "source": [
        "random_mnist_sample_plot(20, x_test_type_int8)"
      ],
      "execution_count": null,
      "outputs": [
        {
          "output_type": "display_data",
          "data": {
            "image/png": "[encoded data removed]",
            "text/plain": [
              "<Figure size 1080x720 with 20 Axes>"
            ]
          },
          "metadata": {
            "tags": [],
            "needs_background": "light"
          }
        }
      ]
    },
    {
      "cell_type": "code",
      "metadata": {
        "id": "c6mABiOv3uNU"
      },
      "source": [
        "with open('mnist_full_quant.tflite', 'wb') as f:\n",
        "  f.write(tflite_full_quant_model)"
      ],
      "execution_count": null,
      "outputs": []
    },
    {
      "cell_type": "markdown",
      "metadata": {
        "id": "uvLbQEYvobY0"
      },
      "source": [
        "### Extracción de dataset cuantizado"
      ]
    },
    {
      "cell_type": "code",
      "metadata": {
        "id": "TIoTC14RA1Td",
        "colab": {
          "base_uri": "https://localhost:8080/",
          "height": 35
        },
        "outputId": "e00e4168-1744-4423-e664-59c824af53ca"
      },
      "source": [
        "x_test_type_int8 = adapt_dataset_to_quantized_model(x_test, input_details[0])"
      ],
      "execution_count": null,
      "outputs": [
        {
          "output_type": "stream",
          "text": [
            "quantization details:  (0.003921568859368563, 0)\n"
          ],
          "name": "stdout"
        }
      ]
    },
    {
      "cell_type": "code",
      "metadata": {
        "id": "_xDkLD2CBFQD",
        "colab": {
          "base_uri": "https://localhost:8080/",
          "height": 52
        },
        "outputId": "a6f80370-8a29-4b37-f305-6db36c1a1bb5"
      },
      "source": [
        "test_shape = np.shape(x_test_type_int8)\n",
        "print('test set shape: ', test_shape)\n",
        "dataset_prepared_for_csv_int8 = np.reshape(x_test_type_int8, (test_shape[0], test_shape[1]*test_shape[2]))\n",
        "print('test set shape (flatten): ', np.shape(dataset_prepared_for_csv_int8))\n"
      ],
      "execution_count": null,
      "outputs": [
        {
          "output_type": "stream",
          "text": [
            "test set shape:  (10000, 28, 28)\n",
            "test set shape (flatten):  (10000, 784)\n"
          ],
          "name": "stdout"
        }
      ]
    },
    {
      "cell_type": "code",
      "metadata": {
        "id": "7fa-FqwsEaS4"
      },
      "source": [
        "np.savetxt(\"test_set_uint8_input.csv\", dataset_prepared_for_csv_int8, fmt='%i', delimiter=\",\")"
      ],
      "execution_count": null,
      "outputs": []
    }
  ]
}