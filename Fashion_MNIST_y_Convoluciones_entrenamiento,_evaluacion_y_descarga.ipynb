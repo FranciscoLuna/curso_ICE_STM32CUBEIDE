{
  "nbformat": 4,
  "nbformat_minor": 0,
  "metadata": {
    "colab": {
      "name": "Fashion MNIST y Convoluciones - entrenamiento, evaluacion y descarga.ipynb",
      "provenance": [],
      "collapsed_sections": [],
      "toc_visible": true,
      "include_colab_link": true
    },
    "kernelspec": {
      "display_name": "Python 3",
      "name": "python3"
    },
    "accelerator": "GPU"
  },
  "cells": [
    {
      "cell_type": "markdown",
      "metadata": {
        "id": "view-in-github",
        "colab_type": "text"
      },
      "source": [
        "<a href=\"https://colab.research.google.com/github/FranciscoLuna/curso_ICE_STM32CUBEIDE/blob/master/Fashion_MNIST_y_Convoluciones_entrenamiento%2C_evaluacion_y_descarga.ipynb\" target=\"_parent\"><img src=\"https://colab.research.google.com/assets/colab-badge.svg\" alt=\"Open In Colab\"/></a>"
      ]
    },
    {
      "cell_type": "markdown",
      "metadata": {
        "id": "YenH_9hJbFk1"
      },
      "source": [
        "# Clasificación de tipos de ropa con Redes Neuronales Convolucionales (CNN)"
      ]
    },
    {
      "cell_type": "markdown",
      "metadata": {
        "id": "FbVhjPpzn6BM"
      },
      "source": [
        "Esta Guia entrena un modelo de red neuronal para clasificar imagenes de ropa como, tennis y camisetas. No hay problema sino entiende todos los detalles; es un repaso rapido de un programa completo de Tensorflow con los detalles explicados a medida que avanza.\n",
        "\n",
        "Esta Guia usa [tf.keras](https://www.tensorflow.org/guide/keras), un API de alto nivel para construir y entrenar modelos en Tensorflow."
      ]
    },
    {
      "cell_type": "code",
      "metadata": {
        "id": "dzLKpmZICaWN"
      },
      "source": [
        "# Antes de nada, importamos las librerías que nos puedan hacer falta\n",
        "\n",
        "import tensorflow as tf # Para crear modelos de Aprendizaje Profundo \n",
        "\n",
        "import matplotlib.pyplot as plt # Para graficar imágenes y gráficas de evaluación\n",
        "\n",
        "import numpy as np # Nos permite trabajar con estructuras vectoriales eficientes\n",
        "                   # que son además las que emplea tensorflow \n",
        "\n",
        "import math # Operaciones matemáticas\n",
        "\n",
        "# métodos para calcular métricas y matriz de confusión\n",
        "from sklearn.metrics import confusion_matrix, classification_report \n",
        "\n",
        "import itertools # funciones eficientes sobre elementos iterables"
      ],
      "execution_count": null,
      "outputs": []
    },
    {
      "cell_type": "markdown",
      "metadata": {
        "id": "yR0EdgrLCaWR"
      },
      "source": [
        "## El dataset de moda de MNIST"
      ]
    },
    {
      "cell_type": "markdown",
      "metadata": {
        "id": "DLdCchMdCaWQ"
      },
      "source": [
        "Fashion MNIST contiene mas de 70,000 imagenes divididas en 10 categorias de prendas. Al igual que ocurria con el dataset clásico MNIST, cada imagen tiene una resolución de 28 por 28 pixeles.\n",
        "\n",
        "En tanto que las imágenes son más complejas, su clasificación por una red es más compleja. Por ello, vamos a usar una Red Neuronal con Convoluciones para resolver el problema."
      ]
    },
    {
      "cell_type": "code",
      "metadata": {
        "id": "7MqDQO0KCaWS",
        "outputId": "24b9bdb9-eec3-43dd-e4ba-b3d517aa4ef3",
        "colab": {
          "base_uri": "https://localhost:8080/",
          "height": 156
        }
      },
      "source": [
        "fashion_mnist = tf.keras.datasets.fashion_mnist\n",
        "\n",
        "(x_train, y_train), (x_test, y_test) = fashion_mnist.load_data()"
      ],
      "execution_count": null,
      "outputs": [
        {
          "output_type": "stream",
          "text": [
            "Downloading data from https://storage.googleapis.com/tensorflow/tf-keras-datasets/train-labels-idx1-ubyte.gz\n",
            "32768/29515 [=================================] - 0s 0us/step\n",
            "Downloading data from https://storage.googleapis.com/tensorflow/tf-keras-datasets/train-images-idx3-ubyte.gz\n",
            "26427392/26421880 [==============================] - 1s 0us/step\n",
            "Downloading data from https://storage.googleapis.com/tensorflow/tf-keras-datasets/t10k-labels-idx1-ubyte.gz\n",
            "8192/5148 [===============================================] - 0s 0us/step\n",
            "Downloading data from https://storage.googleapis.com/tensorflow/tf-keras-datasets/t10k-images-idx3-ubyte.gz\n",
            "4423680/4422102 [==============================] - 0s 0us/step\n"
          ],
          "name": "stdout"
        }
      ]
    },
    {
      "cell_type": "code",
      "metadata": {
        "id": "IjnLH5S2CaWx"
      },
      "source": [
        "class_names = ['T-shirt/top', 'Trouser', 'Pullover', 'Dress', 'Coat',\n",
        "               'Sandal', 'Shirt', 'Sneaker', 'Bag', 'Ankle boot']"
      ],
      "execution_count": null,
      "outputs": []
    },
    {
      "cell_type": "code",
      "metadata": {
        "id": "m--xqplztTAv",
        "outputId": "8eece20d-5405-4c53-fd01-6d439127c70d",
        "colab": {
          "base_uri": "https://localhost:8080/",
          "height": 55
        }
      },
      "source": [
        "n_samples_train = len(x_train)\n",
        "n_samples_test = len(x_test)\n",
        "n_samples = n_samples_train + n_samples_test\n",
        "print(\"La relación de muestras entre los dos subconjuntos es del {:.2%} en \" \n",
        "        \"subconjunto de entrenamiento y del {:.2%}, de prueba\".format(\n",
        "            n_samples_train/n_samples, n_samples_test/n_samples))\n",
        "\n",
        "\n",
        "# Las imágenes están en escala de grises, con una resolución de 256 valores. Es\n",
        "# común en problemas de clasificación realizar una normalización y escalar ese\n",
        "# rango de valores al intervalo [0,1], si bien no es necesario. Puede probarse el\n",
        "# realizar el entrenamiento sin hacer esta conversión.\n",
        "x_train, x_test = x_train / 255.0, x_test / 255.0"
      ],
      "execution_count": null,
      "outputs": [
        {
          "output_type": "stream",
          "text": [
            "La relación de muestras entre los dos subconjuntos es del 85.71% en subconjunto de entrenamiento y del 14.29%, de prueba\n"
          ],
          "name": "stdout"
        }
      ]
    },
    {
      "cell_type": "code",
      "metadata": {
        "id": "1AlhVcULtaxn"
      },
      "source": [
        "# Una pequeña función para graficar muestras aleatorias\n",
        "\n",
        "def random_sample_plot(n_samples, mnist_set):\n",
        "\n",
        "  rnd_index = np.random.choice(mnist_set.shape[0], size=(n_samples,), replace=False)\n",
        "  subset = mnist_set[rnd_index]\n",
        "\n",
        "  grid_width = 5\n",
        "  grid_length = math.ceil(n_samples/grid_width)\n",
        "  \n",
        "  plt.figure(figsize=(15,10)) # specifying the overall grid size\n",
        "\n",
        "  for i in range(n_samples):\n",
        "      plt.subplot(grid_length,grid_width,i+1)    # the number of images in the grid is 5*5 (25)\n",
        "      plt.imshow(subset[i], cmap='gray')"
      ],
      "execution_count": null,
      "outputs": []
    },
    {
      "cell_type": "code",
      "metadata": {
        "id": "SNo3JBVBtbRB",
        "outputId": "ee8ec132-ac6b-45a7-ab8e-e21ed0d2f071",
        "colab": {
          "base_uri": "https://localhost:8080/",
          "height": 593
        }
      },
      "source": [
        "# Una muestra del MNIST\n",
        "random_sample_plot(20, x_train)"
      ],
      "execution_count": null,
      "outputs": [
        {
          "output_type": "display_data",
          "data": {
            "image/png": "[encoded data removed]",
            "text/plain": [
              "<Figure size 1080x720 with 20 Axes>"
            ]
          },
          "metadata": {
            "tags": [],
            "needs_background": "light"
          }
        }
      ]
    },
    {
      "cell_type": "markdown",
      "metadata": {
        "id": "59veuiEZCaW4"
      },
      "source": [
        "## Un modelo de CNN sencillo\n",
        "\n",
        "Construir la red neuronal requiere configurar las capas del modelo y luego compilar el modelo."
      ]
    },
    {
      "cell_type": "code",
      "metadata": {
        "id": "iq8dm_IHwS3W"
      },
      "source": [
        "x_train = x_train.reshape((x_train.shape[0], 28, 28, 1))\n",
        "x_test = x_test.reshape((x_test.shape[0], 28, 28, 1))"
      ],
      "execution_count": null,
      "outputs": []
    },
    {
      "cell_type": "code",
      "metadata": {
        "id": "9ODch-OFCaW4"
      },
      "source": [
        "\n",
        "model = tf.keras.models.Sequential() # El modelo secuencial vacio inicialmente\n",
        "\n",
        "\n",
        "model.add(tf.keras.Input(shape=(28, 28, 1))) # Podemos describir la forma de la entrada\n",
        "                                          # como si de una capa se tratase. \n",
        "\n",
        "\n",
        "# Capas de convolución y pooling\n",
        "\n",
        "model.add(tf.keras.layers.Conv2D(filters=32, kernel_size=3, padding=\"same\", activation=\"relu\"))\n",
        "model.add(tf.keras.layers.MaxPool2D(pool_size=2, strides=2, padding='valid'))\n",
        "#model.add(tf.keras.layers.Conv2D(filters=64, kernel_size=3, padding=\"same\", activation=\"relu\"))\n",
        "#model.add(tf.keras.layers.MaxPool2D(pool_size=2, strides=2, padding='valid'))\n",
        "\n",
        "\n",
        "model.add(tf.keras.layers.Flatten()) # Esta capa \"aplana\" la imagen, es decir, pasa\n",
        "                                     # la matriz de valores a un vector unidimensional.\n",
        "model.add(tf.keras.layers.Dense(128, activation='relu')) # Una capa Densa o Fully-Connected.\n",
        "model.add(tf.keras.layers.Dropout(0.2)) # Empleamos Dropout, una técnica que inhabilita \n",
        "                                        # un % de nodos de la capa anterior de forma aleatoria\n",
        "                                        # durante el entrenamiento, que ayuda a la generalización\n",
        "                                        # del modelo evitando el sobre ajuste de los nodos a los\n",
        "                                        # ejemplos particulares usados.\n",
        "model.add(tf.keras.layers.Dense(10, activation='softmax')) # Una última capa Densa, ya como salida.\n",
        "                                                           # Se la ha dotado de 10 nodos, tantos como\n",
        "                                                           # dígitos diferentes consideramos para su \n",
        "                                                           # clasificación (0 al 9)"
      ],
      "execution_count": null,
      "outputs": []
    },
    {
      "cell_type": "code",
      "metadata": {
        "id": "SW569GhgxiNa",
        "outputId": "62051578-f31f-4497-a43b-24562fadd33a",
        "colab": {
          "base_uri": "https://localhost:8080/",
          "height": 364
        }
      },
      "source": [
        "model.summary() # Con este método podemos comprobar que nuestra red tiene las \n",
        "                # capas añadidas y ver alguna información adicional"
      ],
      "execution_count": null,
      "outputs": [
        {
          "output_type": "stream",
          "text": [
            "Model: \"sequential_1\"\n",
            "_________________________________________________________________\n",
            "Layer (type)                 Output Shape              Param #   \n",
            "=================================================================\n",
            "conv2d_1 (Conv2D)            (None, 28, 28, 32)        320       \n",
            "_________________________________________________________________\n",
            "max_pooling2d_1 (MaxPooling2 (None, 14, 14, 32)        0         \n",
            "_________________________________________________________________\n",
            "flatten_1 (Flatten)          (None, 6272)              0         \n",
            "_________________________________________________________________\n",
            "dense_2 (Dense)              (None, 128)               802944    \n",
            "_________________________________________________________________\n",
            "dropout_1 (Dropout)          (None, 128)               0         \n",
            "_________________________________________________________________\n",
            "dense_3 (Dense)              (None, 10)                1290      \n",
            "=================================================================\n",
            "Total params: 804,554\n",
            "Trainable params: 804,554\n",
            "Non-trainable params: 0\n",
            "_________________________________________________________________\n"
          ],
          "name": "stdout"
        }
      ]
    },
    {
      "cell_type": "markdown",
      "metadata": {
        "id": "BPZ68wASog_I"
      },
      "source": [
        "### Entrenamiento del modelo\n",
        "\n",
        "Elegimos un optimizador y una funcion de perdida para el entrenamiento del modelo."
      ]
    },
    {
      "cell_type": "code",
      "metadata": {
        "id": "Lhan11blCaW7"
      },
      "source": [
        "# El modelo se inicializa para su entrenamiento con el método compile\n",
        "# El loss SparseCategoricalCrossEntropy permite introducir las etiquetas sin\n",
        "# necesidad de codificarlas en One-Hot\n",
        "model.compile(optimizer='adam',\n",
        "              loss='sparse_categorical_crossentropy',\n",
        "              metrics=['accuracy'])"
      ],
      "execution_count": null,
      "outputs": []
    },
    {
      "cell_type": "code",
      "metadata": {
        "id": "xvwvpA64CaW_",
        "outputId": "54e1142f-067d-4b02-8551-44dd336f458a",
        "colab": {
          "base_uri": "https://localhost:8080/",
          "height": 381
        }
      },
      "source": [
        "# Con este método del modelo podemos entrenarlo. El parámetro \"validation_data\"\n",
        "# es opcional y simplemente evalúa el modelo con los datos proporcionados en cada\n",
        "# época, pero no serán empleados para el entrenamiento (en nuestro caso, le hemos\n",
        "# proporcionado el subconjunto de prueba)\n",
        "model.fit(x_train, y_train, epochs=10)"
      ],
      "execution_count": null,
      "outputs": [
        {
          "output_type": "stream",
          "text": [
            "Epoch 1/10\n",
            "1875/1875 [==============================] - 4s 2ms/step - loss: 0.4077 - accuracy: 0.8549\n",
            "Epoch 2/10\n",
            "1875/1875 [==============================] - 4s 2ms/step - loss: 0.2783 - accuracy: 0.8992\n",
            "Epoch 3/10\n",
            "1875/1875 [==============================] - 4s 2ms/step - loss: 0.2399 - accuracy: 0.9117\n",
            "Epoch 4/10\n",
            "1875/1875 [==============================] - 4s 2ms/step - loss: 0.2113 - accuracy: 0.9212\n",
            "Epoch 5/10\n",
            "1875/1875 [==============================] - 4s 2ms/step - loss: 0.1871 - accuracy: 0.9297\n",
            "Epoch 6/10\n",
            "1875/1875 [==============================] - 4s 2ms/step - loss: 0.1660 - accuracy: 0.9375\n",
            "Epoch 7/10\n",
            "1875/1875 [==============================] - 4s 2ms/step - loss: 0.1481 - accuracy: 0.9440\n",
            "Epoch 8/10\n",
            "1875/1875 [==============================] - 4s 2ms/step - loss: 0.1322 - accuracy: 0.9508\n",
            "Epoch 9/10\n",
            "1875/1875 [==============================] - 4s 2ms/step - loss: 0.1203 - accuracy: 0.9550\n",
            "Epoch 10/10\n",
            "1875/1875 [==============================] - 4s 2ms/step - loss: 0.1089 - accuracy: 0.9588\n"
          ],
          "name": "stdout"
        },
        {
          "output_type": "execute_result",
          "data": {
            "text/plain": [
              "<tensorflow.python.keras.callbacks.History at 0x7f851cda4b70>"
            ]
          },
          "metadata": {
            "tags": []
          },
          "execution_count": 15
        }
      ]
    },
    {
      "cell_type": "markdown",
      "metadata": {
        "id": "utvvaUgU7jXk"
      },
      "source": [
        "### Evaluando el modelo\n",
        "\n",
        "El modo más básico de evaluar un modelo de clasificación es a partir de la métrica de precisión o accuracy. "
      ]
    },
    {
      "cell_type": "code",
      "metadata": {
        "id": "HT7uV0PGjL8i",
        "outputId": "b485d742-17ec-47ce-8903-b213434d79a2",
        "colab": {
          "base_uri": "https://localhost:8080/",
          "height": 52
        }
      },
      "source": [
        "# Cálculo de la precisión con el método evaluate del modelo, empleando el subconjunto de prueba\n",
        "model.evaluate(x_test,  y_test, verbose=2)"
      ],
      "execution_count": null,
      "outputs": [
        {
          "output_type": "stream",
          "text": [
            "313/313 - 1s - loss: 0.2831 - accuracy: 0.9176\n"
          ],
          "name": "stdout"
        },
        {
          "output_type": "execute_result",
          "data": {
            "text/plain": [
              "[0.2830673158168793, 0.9175999760627747]"
            ]
          },
          "metadata": {
            "tags": []
          },
          "execution_count": 17
        }
      ]
    },
    {
      "cell_type": "markdown",
      "metadata": {
        "id": "T4JfEh7kvx6m"
      },
      "source": [
        "Se pueden emplear otro tipo de métricas. Podemos obtener algunas con la ayuda de la librería para Inteligencia Artificial Scikit Learn"
      ]
    },
    {
      "cell_type": "code",
      "metadata": {
        "id": "7TAsi-O5vYUC"
      },
      "source": [
        "def otras_metricas(logits, ground_truth, classes):\n",
        "  logits = np.argmax(logits, axis=1)\n",
        "  print(classification_report(ground_truth, logits,\n",
        "                              target_names=classes))"
      ],
      "execution_count": null,
      "outputs": []
    },
    {
      "cell_type": "code",
      "metadata": {
        "id": "zkNSpAx1wVNh",
        "outputId": "c018d173-4fe5-47d5-92f3-c291822f5db8",
        "colab": {
          "base_uri": "https://localhost:8080/",
          "height": 312
        }
      },
      "source": [
        "# Llamamos al modelo para que calcule las clasificaciones con el subconjunto de\n",
        "# prueba\n",
        "predicts = model.predict(x_test)\n",
        "\n",
        "# Hallamos las métricas\n",
        "otras_metricas(predicts, y_test, classes=class_names)"
      ],
      "execution_count": null,
      "outputs": [
        {
          "output_type": "stream",
          "text": [
            "              precision    recall  f1-score   support\n",
            "\n",
            " T-shirt/top       0.86      0.86      0.86      1000\n",
            "     Trouser       0.99      0.98      0.99      1000\n",
            "    Pullover       0.82      0.91      0.86      1000\n",
            "       Dress       0.91      0.93      0.92      1000\n",
            "        Coat       0.89      0.85      0.87      1000\n",
            "      Sandal       0.99      0.96      0.98      1000\n",
            "       Shirt       0.80      0.74      0.77      1000\n",
            "     Sneaker       0.94      0.99      0.96      1000\n",
            "         Bag       0.98      0.98      0.98      1000\n",
            "  Ankle boot       0.98      0.96      0.97      1000\n",
            "\n",
            "    accuracy                           0.92     10000\n",
            "   macro avg       0.92      0.92      0.92     10000\n",
            "weighted avg       0.92      0.92      0.92     10000\n",
            "\n"
          ],
          "name": "stdout"
        }
      ]
    },
    {
      "cell_type": "markdown",
      "metadata": {
        "id": "_BZAg9TGvYJ6"
      },
      "source": [
        "No obstante, si es interesante saber que la mayor parte de estas métricas se calculan a partir de datos que quedan reflejados en lo que es denominado una **matriz de confusión**, la cual ilustra la cantidad de aciertos y fallos cometidos por el modelo, de forma desglosada. \n",
        "\n",
        "Vamos a mostrar esta matriz para el modelo entrenado."
      ]
    },
    {
      "cell_type": "code",
      "metadata": {
        "id": "zZE7jKH_AA87"
      },
      "source": [
        "# Función que convierte las salidas del modelo en una clase, para que pueda ser \n",
        "# asimilado por la función de cálculo de la matriz de confusión de SciKit Learn\n",
        "def confusion_matrix_v2(logits, ground_truth):\n",
        "  \n",
        "  logits = np.argmax(logits, axis=1)\n",
        "  \n",
        "  cm = confusion_matrix(ground_truth, logits)\n",
        "\n",
        "  return cm\n",
        "\n",
        "\n",
        "# Una función para hacer más atractiva e intuitiva la matriz de confusión\n",
        "def plot_pretty_confusion_matrix(cm, classes,\n",
        "                          normalize=False,\n",
        "                          title='Confusion matrix',\n",
        "                          cmap=plt.cm.Blues):\n",
        "  \"\"\"\n",
        "  This function prints and plots the confusion matrix.\n",
        "  Normalization can be applied by setting `normalize=True`.\n",
        "  \"\"\"\n",
        "  if normalize:\n",
        "      cm = cm.astype('float') / cm.sum(axis=1)[:, np.newaxis]\n",
        "      print(\"Normalized confusion matrix\")\n",
        "  else:\n",
        "      print('Confusion matrix, without normalization')\n",
        "\n",
        "  plt.rcParams[\"figure.figsize\"] = (len(classes),len(classes))\n",
        "\n",
        "  plt.imshow(cm, interpolation='nearest', cmap=cmap)\n",
        "  plt.title(title)\n",
        "  plt.colorbar()\n",
        "  tick_marks = np.arange(len(classes))\n",
        "  plt.xticks(tick_marks, classes, rotation=45)\n",
        "  plt.yticks(tick_marks, classes)\n",
        "\n",
        "  fmt = '.2f' if normalize else 'd'\n",
        "  thresh = cm.max() / 2.\n",
        "  for i, j in itertools.product(range(cm.shape[0]), range(cm.shape[1])):\n",
        "      plt.text(j, i, format(cm[i, j], fmt),\n",
        "                horizontalalignment=\"center\",\n",
        "                color=\"white\" if cm[i, j] > thresh else \"black\")\n",
        "\n",
        "  plt.tight_layout()\n",
        "  plt.ylabel('Etiquetas del dataset')\n",
        "  plt.xlabel('Predicciones/clasificación del modelo')\n"
      ],
      "execution_count": null,
      "outputs": []
    },
    {
      "cell_type": "code",
      "metadata": {
        "id": "yZDr8fZKBJkM",
        "outputId": "e8cd8cb5-4af0-4025-e737-8649cba29ab5",
        "colab": {
          "base_uri": "https://localhost:8080/",
          "height": 747
        }
      },
      "source": [
        "# Calculamos la matriz de confusión de nuestro modelo, comparando los resultados\n",
        "# con las etiquetas del dataset correspondiente a cada muestra\n",
        "cm = confusion_matrix_v2(predicts, y_test)\n",
        "\n",
        "# Mostramos la matriz de confusión de forma intuitiva\n",
        "plot_pretty_confusion_matrix(cm, classes=class_names,\n",
        "                          normalize=True,\n",
        "                          title='Matriz de confusión',\n",
        "                          cmap=plt.cm.Reds)"
      ],
      "execution_count": null,
      "outputs": [
        {
          "output_type": "stream",
          "text": [
            "Normalized confusion matrix\n"
          ],
          "name": "stdout"
        },
        {
          "output_type": "display_data",
          "data": {
            "image/png": "[encoded data removed]",
            "text/plain": [
              "<Figure size 720x720 with 2 Axes>"
            ]
          },
          "metadata": {
            "tags": [],
            "needs_background": "light"
          }
        }
      ]
    },
    {
      "cell_type": "markdown",
      "metadata": {
        "id": "WbyZs4bse2Fh"
      },
      "source": [
        "## ¿Te animas a continuar? \n",
        "\n",
        "Con lo anterior ya tenemos un modelo a nuestra disposición. Sin embargo, quedan una serie de pasos por realizar para trabajar y exprimir las utilidades de CUBE IDE. En concreto, falta por realizar:\n",
        "\n",
        "1. **Esencial**: descargar el modelo de Keras para embeberlo en CUBE-AI. ***Nota***: recuerda que puede haber problemas de versiones, por lo que es recomendable hacer un downgrade de la versión de Tensorflow.\n",
        "\n",
        "2. **Interesante e ilustrativo, extraer el dataset**: La extracción del dataset para poder hacer una evaluación meticulosa del modelo embebido. Recuerda que ha de descargarse en csv y con una forma adecuada para que sea asimilable por la herramienta.\n",
        "\n",
        "3. **Para sacar el máximo provecho, cuantizar**: Tratar de cuantizar el modelo. Si queremos aprovechar al máximo las bondades de la herramienta y mejorar la eficiencia de nuestro sistema embebido, la labor de cuantizar es casi imperativa, sobre todo con placas de bajo consumo. Esta es una buena meta a alcanzar.\n",
        "\n"
      ]
    },
    {
      "cell_type": "code",
      "metadata": {
        "id": "ih_2KXlShXGm"
      },
      "source": [
        ""
      ],
      "execution_count": null,
      "outputs": []
    }
  ]
}