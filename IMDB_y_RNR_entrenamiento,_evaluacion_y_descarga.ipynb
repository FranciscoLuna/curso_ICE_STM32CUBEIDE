{
  "nbformat": 4,
  "nbformat_minor": 0,
  "metadata": {
    "colab": {
      "name": "IMDB y RNR - entrenamiento, evaluacion y descarga.ipynb",
      "provenance": [],
      "collapsed_sections": [],
      "include_colab_link": true
    },
    "kernelspec": {
      "name": "python3",
      "display_name": "Python 3"
    },
    "accelerator": "GPU"
  },
  "cells": [
    {
      "cell_type": "markdown",
      "metadata": {
        "id": "view-in-github",
        "colab_type": "text"
      },
      "source": [
        "<a href=\"https://colab.research.google.com/github/FranciscoLuna/curso_ICE_STM32CUBEIDE/blob/master/IMDB_y_RNR_entrenamiento%2C_evaluacion_y_descarga.ipynb\" target=\"_parent\"><img src=\"https://colab.research.google.com/assets/colab-badge.svg\" alt=\"Open In Colab\"/></a>"
      ]
    },
    {
      "cell_type": "markdown",
      "metadata": {
        "id": "JL3SBH6PzDwV"
      },
      "source": [
        "# Análisis de sentimientos con Redes Neuronales Recurrentes"
      ]
    },
    {
      "cell_type": "markdown",
      "metadata": {
        "id": "bHPmuyH3ghH-"
      },
      "source": [
        ""
      ]
    },
    {
      "cell_type": "code",
      "metadata": {
        "id": "ynShOu8nNtFt"
      },
      "source": [
        "# Antes de nada, importamos las librerías que nos puedan hacer falta\n",
        "\n",
        "import tensorflow as tf # Para crear modelos de Aprendizaje Profundo \n",
        "\n",
        "import matplotlib.pyplot as plt # Para graficar imágenes y gráficas de evaluación\n",
        "\n",
        "import numpy as np # Nos permite trabajar con estructuras vectoriales eficientes\n",
        "                   # que son además las que emplea tensorflow \n",
        "\n",
        "import math # Operaciones matemáticas\n",
        "\n",
        "# métodos para calcular métricas y matriz de confusión\n",
        "from sklearn.metrics import confusion_matrix, classification_report \n",
        "\n",
        "import itertools # funciones eficientes sobre elementos iterables"
      ],
      "execution_count": null,
      "outputs": []
    },
    {
      "cell_type": "markdown",
      "metadata": {
        "id": "JEjlM2EazOf0"
      },
      "source": [
        "## El dataset: opiniones de IMDB\n"
      ]
    },
    {
      "cell_type": "markdown",
      "metadata": {
        "id": "y8xfcRyZg2Pt"
      },
      "source": [
        ""
      ]
    },
    {
      "cell_type": "markdown",
      "metadata": {
        "id": "wB0tNtXJzTfA"
      },
      "source": [
        "### Configurar parámetros del dataset"
      ]
    },
    {
      "cell_type": "code",
      "metadata": {
        "id": "Jw6_KU24SrYK"
      },
      "source": [
        "number_of_words = 20000\n",
        "max_len = 100"
      ],
      "execution_count": null,
      "outputs": []
    },
    {
      "cell_type": "markdown",
      "metadata": {
        "id": "ePywR8A4zaxT"
      },
      "source": [
        "### Carga del dataset de IMDB"
      ]
    },
    {
      "cell_type": "code",
      "metadata": {
        "id": "6kCTV_hjOKmE",
        "outputId": "327ab2f6-ad6d-40f8-9a8b-7ae40e01a429",
        "colab": {
          "base_uri": "https://localhost:8080/",
          "height": 52
        }
      },
      "source": [
        "(X_train, y_train), (X_test, y_test) = tf.keras.datasets.imdb.load_data(num_words=number_of_words)"
      ],
      "execution_count": null,
      "outputs": [
        {
          "output_type": "stream",
          "text": [
            "Downloading data from https://storage.googleapis.com/tensorflow/tf-keras-datasets/imdb.npz\n",
            "17465344/17464789 [==============================] - 0s 0us/step\n"
          ],
          "name": "stdout"
        }
      ]
    },
    {
      "cell_type": "markdown",
      "metadata": {
        "id": "MZKDNoTKzi5w"
      },
      "source": [
        "### Cortar secuencias de texto de la misma longitud"
      ]
    },
    {
      "cell_type": "code",
      "metadata": {
        "id": "LHcMNzv7Pd1s"
      },
      "source": [
        "X_train = tf.keras.preprocessing.sequence.pad_sequences(X_train, maxlen=max_len)"
      ],
      "execution_count": null,
      "outputs": []
    },
    {
      "cell_type": "code",
      "metadata": {
        "id": "Fcxd--ESP3Rh"
      },
      "source": [
        "X_test = tf.keras.preprocessing.sequence.pad_sequences(X_test, maxlen=max_len)"
      ],
      "execution_count": null,
      "outputs": []
    },
    {
      "cell_type": "markdown",
      "metadata": {
        "id": "7xDMP44Zz0dU"
      },
      "source": [
        "### Configurar parámetros de la capa de Embedding"
      ]
    },
    {
      "cell_type": "code",
      "metadata": {
        "id": "nGHQ2upgQIGj",
        "outputId": "794e161e-6456-4914-c90d-275c149c2ef1",
        "colab": {
          "base_uri": "https://localhost:8080/",
          "height": 35
        }
      },
      "source": [
        "vocab_size = number_of_words\n",
        "vocab_size"
      ],
      "execution_count": null,
      "outputs": [
        {
          "output_type": "execute_result",
          "data": {
            "text/plain": [
              "20000"
            ]
          },
          "metadata": {
            "tags": []
          },
          "execution_count": 11
        }
      ]
    },
    {
      "cell_type": "code",
      "metadata": {
        "id": "PMyk2JcPQcjF"
      },
      "source": [
        "embed_size = 128"
      ],
      "execution_count": null,
      "outputs": []
    },
    {
      "cell_type": "markdown",
      "metadata": {
        "id": "VG6LBKGnz7jT"
      },
      "source": [
        "## Creando dos tipos de Redes Neuronales Recurrentes con compuertas: LSTM y GRU"
      ]
    },
    {
      "cell_type": "markdown",
      "metadata": {
        "id": "TUVnz-9K0DcW"
      },
      "source": [
        "### Red Neuronal Recurrente con unidades LSTM"
      ]
    },
    {
      "cell_type": "code",
      "metadata": {
        "id": "N2GHzwk6OMrV"
      },
      "source": [
        "model_lstm = tf.keras.Sequential()\n",
        "\n",
        "# Capa Embedding: vectoriza las palabras, determinando cualidades de\n",
        "# parentezco y relación entre palabras, de forma que palabras relacionadas\n",
        "# en semántica pasen a ser traducidos como vectores próximos entre ellos\n",
        "model_lstm.add(tf.keras.layers.Embedding(vocab_size, embed_size, input_shape=(X_train.shape[1],)))\n",
        "\n",
        "# Una capa LSTM de 128 nodos y con función de activación tangente hiperbólica\n",
        "model_lstm.add(tf.keras.layers.LSTM(units=128, activation='tanh'))\n",
        "\n",
        "# Entrenaremos a la red para que determine si un mensaje es positivo o negativo\n",
        "# Por ello, la capa final estará formada por un único nodo, de modo que valores\n",
        "# próximos a cero o a uno determinarán si el mensaje es negativo o positivo, \n",
        "# respectivamente\n",
        "model_lstm.add(tf.keras.layers.Dense(units=1, activation='sigmoid'))"
      ],
      "execution_count": null,
      "outputs": []
    },
    {
      "cell_type": "markdown",
      "metadata": {
        "id": "VWcqM4Yr2ALS"
      },
      "source": [
        "#### Compilar el modelo"
      ]
    },
    {
      "cell_type": "code",
      "metadata": {
        "id": "-z9ACOXcRUUN"
      },
      "source": [
        "model_lstm.compile(optimizer='rmsprop', loss='binary_crossentropy', metrics=['accuracy'])"
      ],
      "execution_count": null,
      "outputs": []
    },
    {
      "cell_type": "code",
      "metadata": {
        "id": "PiolKKO6RjVF",
        "outputId": "9341eaf4-e25e-4cd8-bd26-b42498f4e17e",
        "colab": {
          "base_uri": "https://localhost:8080/",
          "height": 260
        }
      },
      "source": [
        "model_lstm.summary()"
      ],
      "execution_count": null,
      "outputs": [
        {
          "output_type": "stream",
          "text": [
            "Model: \"sequential_1\"\n",
            "_________________________________________________________________\n",
            "Layer (type)                 Output Shape              Param #   \n",
            "=================================================================\n",
            "embedding (Embedding)        (None, 100, 128)          2560000   \n",
            "_________________________________________________________________\n",
            "lstm (LSTM)                  (None, 128)               131584    \n",
            "_________________________________________________________________\n",
            "dense (Dense)                (None, 1)                 129       \n",
            "=================================================================\n",
            "Total params: 2,691,713\n",
            "Trainable params: 2,691,713\n",
            "Non-trainable params: 0\n",
            "_________________________________________________________________\n"
          ],
          "name": "stdout"
        }
      ]
    },
    {
      "cell_type": "markdown",
      "metadata": {
        "id": "2bPUvbfe2GJI"
      },
      "source": [
        "#### Entrenando el modelo"
      ]
    },
    {
      "cell_type": "code",
      "metadata": {
        "id": "9FqUTA1CRpQ8",
        "outputId": "2b9502ee-4bf6-46c9-e0e6-13149c89cc9a",
        "colab": {
          "base_uri": "https://localhost:8080/",
          "height": 208
        }
      },
      "source": [
        "model_lstm.fit(X_train, y_train, epochs=5, batch_size=128)"
      ],
      "execution_count": null,
      "outputs": [
        {
          "output_type": "stream",
          "text": [
            "Epoch 1/5\n",
            "196/196 [==============================] - 5s 27ms/step - loss: 0.4567 - accuracy: 0.7892\n",
            "Epoch 2/5\n",
            "196/196 [==============================] - 5s 26ms/step - loss: 0.2868 - accuracy: 0.8841\n",
            "Epoch 3/5\n",
            "196/196 [==============================] - 5s 27ms/step - loss: 0.2320 - accuracy: 0.9119\n",
            "Epoch 4/5\n",
            "196/196 [==============================] - 6s 28ms/step - loss: 0.1856 - accuracy: 0.9312\n",
            "Epoch 5/5\n",
            "196/196 [==============================] - 5s 28ms/step - loss: 0.1524 - accuracy: 0.9447\n"
          ],
          "name": "stdout"
        },
        {
          "output_type": "execute_result",
          "data": {
            "text/plain": [
              "<tensorflow.python.keras.callbacks.History at 0x7f2255e24cf8>"
            ]
          },
          "metadata": {
            "tags": []
          },
          "execution_count": 16
        }
      ]
    },
    {
      "cell_type": "markdown",
      "metadata": {
        "id": "utvvaUgU7jXk"
      },
      "source": [
        "#### Evaluando el modelo\n",
        "\n",
        "El modo más básico de evaluar un modelo de clasificación es a partir de la métrica de precisión o accuracy. "
      ]
    },
    {
      "cell_type": "code",
      "metadata": {
        "id": "HT7uV0PGjL8i",
        "outputId": "35c73525-103c-43ae-9693-9b23b4ec87fb",
        "colab": {
          "base_uri": "https://localhost:8080/",
          "height": 52
        }
      },
      "source": [
        "# Cálculo de la precisión con el método evaluate del modelo, empleando el subconjunto de prueba\n",
        "model_lstm.evaluate(X_test,  y_test, verbose=2)"
      ],
      "execution_count": null,
      "outputs": [
        {
          "output_type": "stream",
          "text": [
            "782/782 - 3s - loss: 0.4342 - accuracy: 0.8446\n"
          ],
          "name": "stdout"
        },
        {
          "output_type": "execute_result",
          "data": {
            "text/plain": [
              "[0.4342467486858368, 0.8445600271224976]"
            ]
          },
          "metadata": {
            "tags": []
          },
          "execution_count": 18
        }
      ]
    },
    {
      "cell_type": "markdown",
      "metadata": {
        "id": "T4JfEh7kvx6m"
      },
      "source": [
        "Se pueden emplear otro tipo de métricas. Podemos obtener algunas con la ayuda de la librería para Inteligencia Artificial Scikit Learn"
      ]
    },
    {
      "cell_type": "code",
      "metadata": {
        "id": "Ik9IbC5PojYH"
      },
      "source": [
        "logits_lstm = np.round(predicts_lstm).reshape((predicts_lstm.shape[0]))"
      ],
      "execution_count": null,
      "outputs": []
    },
    {
      "cell_type": "code",
      "metadata": {
        "id": "Nu0P_LUjnX1R",
        "outputId": "a9410644-a8cb-4d88-fe01-1965fef3a080",
        "colab": {
          "base_uri": "https://localhost:8080/",
          "height": 173
        }
      },
      "source": [
        "print(classification_report(y_test, logits_lstm,\n",
        "                              target_names=['negativo', 'positivo']))"
      ],
      "execution_count": null,
      "outputs": [
        {
          "output_type": "stream",
          "text": [
            "              precision    recall  f1-score   support\n",
            "\n",
            "    negativo       0.83      0.86      0.85     12500\n",
            "    positivo       0.86      0.82      0.84     12500\n",
            "\n",
            "    accuracy                           0.84     25000\n",
            "   macro avg       0.85      0.84      0.84     25000\n",
            "weighted avg       0.85      0.84      0.84     25000\n",
            "\n"
          ],
          "name": "stdout"
        }
      ]
    },
    {
      "cell_type": "code",
      "metadata": {
        "id": "7TAsi-O5vYUC"
      },
      "source": [
        "def otras_metricas(logits, ground_truth, classes):\n",
        "  logits = np.argmax(logits, axis=1)\n",
        "  print(classification_report(ground_truth, logits,\n",
        "                              target_names=classes))"
      ],
      "execution_count": null,
      "outputs": []
    },
    {
      "cell_type": "code",
      "metadata": {
        "id": "zkNSpAx1wVNh",
        "outputId": "6367f9ca-08d9-4ebb-ceb2-e511b875329d",
        "colab": {
          "base_uri": "https://localhost:8080/",
          "height": 312
        }
      },
      "source": [
        "# Llamamos al modelo para que calcule las clasificaciones con el subconjunto de\n",
        "# prueba\n",
        "predicts_lstm = model_lstm.predict(x_test)\n",
        "\n",
        "# Hallamos las métricas\n",
        "otras_metricas(predicts_lstm, y_test, classes=['negativo', 'positivo'])"
      ],
      "execution_count": null,
      "outputs": [
        {
          "output_type": "stream",
          "text": [
            "              precision    recall  f1-score   support\n",
            "\n",
            "           0       0.98      0.99      0.99       980\n",
            "           1       0.99      0.99      0.99      1135\n",
            "           2       0.97      0.98      0.98      1032\n",
            "           3       0.99      0.97      0.98      1010\n",
            "           4       0.98      0.97      0.98       982\n",
            "           5       0.98      0.98      0.98       892\n",
            "           6       0.98      0.98      0.98       958\n",
            "           7       0.97      0.98      0.98      1028\n",
            "           8       0.98      0.98      0.98       974\n",
            "           9       0.96      0.98      0.97      1009\n",
            "\n",
            "    accuracy                           0.98     10000\n",
            "   macro avg       0.98      0.98      0.98     10000\n",
            "weighted avg       0.98      0.98      0.98     10000\n",
            "\n"
          ],
          "name": "stdout"
        }
      ]
    },
    {
      "cell_type": "markdown",
      "metadata": {
        "id": "_BZAg9TGvYJ6"
      },
      "source": [
        "No obstante, si es interesante saber que la mayor parte de estas métricas se calculan a partir de datos que quedan reflejados en lo que es denominado una **matriz de confusión**, la cual ilustra la cantidad de aciertos y fallos cometidos por el modelo, de forma desglosada. \n",
        "\n",
        "Vamos a mostrar esta matriz para el modelo entrenado."
      ]
    },
    {
      "cell_type": "code",
      "metadata": {
        "id": "zZE7jKH_AA87"
      },
      "source": [
        "# Función que convierte las salidas del modelo en una clase, para que pueda ser \n",
        "# asimilado por la función de cálculo de la matriz de confusión de SciKit Learn\n",
        "def confusion_matrix_binary(logits, ground_truth):\n",
        "  \n",
        "  logits = np.argmax(logits, axis=1)\n",
        "  \n",
        "  cm = confusion_matrix(ground_truth, logits)\n",
        "\n",
        "  return cm\n",
        "\n",
        "\n",
        "# Una función para hacer más atractiva e intuitiva la matriz de confusión\n",
        "def plot_pretty_confusion_matrix(cm, classes,\n",
        "                          normalize=False,\n",
        "                          title='Confusion matrix',\n",
        "                          cmap=plt.cm.Blues):\n",
        "  \"\"\"\n",
        "  This function prints and plots the confusion matrix.\n",
        "  Normalization can be applied by setting `normalize=True`.\n",
        "  \"\"\"\n",
        "  if normalize:\n",
        "      cm = cm.astype('float') / cm.sum(axis=1)[:, np.newaxis]\n",
        "      print(\"Normalized confusion matrix\")\n",
        "  else:\n",
        "      print('Confusion matrix, without normalization')\n",
        "\n",
        "  plt.rcParams[\"figure.figsize\"] = (len(classes)*3,len(classes)*3)\n",
        "\n",
        "  plt.imshow(cm, interpolation='nearest', cmap=cmap)\n",
        "  plt.title(title)\n",
        "  plt.colorbar()\n",
        "  tick_marks = np.arange(len(classes))\n",
        "  plt.xticks(tick_marks, classes, rotation=45)\n",
        "  plt.yticks(tick_marks, classes)\n",
        "\n",
        "  fmt = '.2f' if normalize else 'd'\n",
        "  thresh = cm.max() / 2.\n",
        "  for i, j in itertools.product(range(cm.shape[0]), range(cm.shape[1])):\n",
        "      plt.text(j, i, format(cm[i, j], fmt),\n",
        "                horizontalalignment=\"center\",\n",
        "                color=\"white\" if cm[i, j] > thresh else \"black\")\n",
        "\n",
        "  plt.tight_layout()\n",
        "  plt.ylabel('Etiquetas del dataset')\n",
        "  plt.xlabel('Predicciones/clasificación del modelo')\n"
      ],
      "execution_count": null,
      "outputs": []
    },
    {
      "cell_type": "code",
      "metadata": {
        "id": "yZDr8fZKBJkM",
        "outputId": "d0df0f3c-f660-42c3-bc8d-eb5b6109e19d",
        "colab": {
          "base_uri": "https://localhost:8080/",
          "height": 449
        }
      },
      "source": [
        "# Calculamos la matriz de confusión de nuestro modelo, comparando los resultados\n",
        "# con las etiquetas del dataset correspondiente a cada muestra\n",
        "cm_lstm = confusion_matrix(logits_lstm, y_test)\n",
        "\n",
        "# Mostramos la matriz de confusión de forma intuitiva\n",
        "plot_pretty_confusion_matrix(cm_lstm, classes=['negativo', 'positivo'],\n",
        "                          normalize=True,\n",
        "                          title='Matriz de confusión',\n",
        "                          cmap=plt.cm.Reds)"
      ],
      "execution_count": null,
      "outputs": [
        {
          "output_type": "stream",
          "text": [
            "Normalized confusion matrix\n"
          ],
          "name": "stdout"
        },
        {
          "output_type": "display_data",
          "data": {
            "image/png": "[encoded data removed]",
            "text/plain": [
              "<Figure size 432x432 with 2 Axes>"
            ]
          },
          "metadata": {
            "tags": [],
            "needs_background": "light"
          }
        }
      ]
    },
    {
      "cell_type": "markdown",
      "metadata": {
        "id": "yNP2Yt43pZYD"
      },
      "source": [
        "### Red Neuronal Recurrente con unidades GRU"
      ]
    },
    {
      "cell_type": "code",
      "metadata": {
        "id": "May-L0QMpZYH"
      },
      "source": [
        "model_gru = tf.keras.Sequential()\n",
        "\n",
        "# Capa Embedding: vectoriza las palabras, determinando cualidades de\n",
        "# parentezco y relación entre palabras, de forma que palabras relacionadas\n",
        "# en semántica pasen a ser traducidos como vectores próximos entre ellos\n",
        "model_gru.add(tf.keras.layers.Embedding(vocab_size, embed_size, input_shape=(X_train.shape[1],)))\n",
        "\n",
        "# Una capa GRU de 128 nodos y con función de activación tangente hiperbólica\n",
        "model_gru.add(tf.keras.layers.GRU(units=128, activation='tanh'))\n",
        "\n",
        "# Entrenaremos a la red para que determine si un mensaje es positivo o negativo\n",
        "# Por ello, la capa final estará formada por un único nodo, de modo que valores\n",
        "# próximos a cero o a uno determinarán si el mensaje es negativo o positivo, \n",
        "# respectivamente\n",
        "model_gru.add(tf.keras.layers.Dense(units=1, activation='sigmoid'))"
      ],
      "execution_count": null,
      "outputs": []
    },
    {
      "cell_type": "markdown",
      "metadata": {
        "id": "veynI6gnpZYN"
      },
      "source": [
        "#### Compilar el modelo"
      ]
    },
    {
      "cell_type": "code",
      "metadata": {
        "id": "QSr3X24vpZYO"
      },
      "source": [
        "model_gru.compile(optimizer='rmsprop', loss='binary_crossentropy', metrics=['accuracy'])"
      ],
      "execution_count": null,
      "outputs": []
    },
    {
      "cell_type": "code",
      "metadata": {
        "id": "tFe6-8HdpZYR",
        "outputId": "0bcb352f-4071-4370-82d8-ab25204f33eb",
        "colab": {
          "base_uri": "https://localhost:8080/",
          "height": 260
        }
      },
      "source": [
        "model_gru.summary()"
      ],
      "execution_count": null,
      "outputs": [
        {
          "output_type": "stream",
          "text": [
            "Model: \"sequential_2\"\n",
            "_________________________________________________________________\n",
            "Layer (type)                 Output Shape              Param #   \n",
            "=================================================================\n",
            "embedding_1 (Embedding)      (None, 100, 128)          2560000   \n",
            "_________________________________________________________________\n",
            "gru (GRU)                    (None, 128)               99072     \n",
            "_________________________________________________________________\n",
            "dense_1 (Dense)              (None, 1)                 129       \n",
            "=================================================================\n",
            "Total params: 2,659,201\n",
            "Trainable params: 2,659,201\n",
            "Non-trainable params: 0\n",
            "_________________________________________________________________\n"
          ],
          "name": "stdout"
        }
      ]
    },
    {
      "cell_type": "markdown",
      "metadata": {
        "id": "NNLYb-W4pZYV"
      },
      "source": [
        "#### Entrenando el modelo"
      ]
    },
    {
      "cell_type": "code",
      "metadata": {
        "id": "pbuxNj_XpZYV",
        "outputId": "3b1b4a4a-86b8-4170-8fee-460d662e07f1",
        "colab": {
          "base_uri": "https://localhost:8080/",
          "height": 208
        }
      },
      "source": [
        "model_gru.fit(X_train, y_train, epochs=5, batch_size=128)"
      ],
      "execution_count": null,
      "outputs": [
        {
          "output_type": "stream",
          "text": [
            "Epoch 1/5\n",
            "196/196 [==============================] - 5s 26ms/step - loss: 0.4722 - accuracy: 0.7670\n",
            "Epoch 2/5\n",
            "196/196 [==============================] - 5s 25ms/step - loss: 0.3020 - accuracy: 0.8752\n",
            "Epoch 3/5\n",
            "196/196 [==============================] - 5s 26ms/step - loss: 0.2372 - accuracy: 0.9064\n",
            "Epoch 4/5\n",
            "196/196 [==============================] - 5s 26ms/step - loss: 0.1927 - accuracy: 0.9273\n",
            "Epoch 5/5\n",
            "196/196 [==============================] - 5s 25ms/step - loss: 0.1535 - accuracy: 0.9450\n"
          ],
          "name": "stdout"
        },
        {
          "output_type": "execute_result",
          "data": {
            "text/plain": [
              "<tensorflow.python.keras.callbacks.History at 0x7f22544c2048>"
            ]
          },
          "metadata": {
            "tags": []
          },
          "execution_count": 46
        }
      ]
    },
    {
      "cell_type": "markdown",
      "metadata": {
        "id": "iziW_PnFpZYa"
      },
      "source": [
        "#### Evaluando el modelo\n",
        "\n",
        "El modo más básico de evaluar un modelo de clasificación es a partir de la métrica de precisión o accuracy. "
      ]
    },
    {
      "cell_type": "code",
      "metadata": {
        "id": "PVu3HU8qpZYp"
      },
      "source": [
        "# Llamamos al modelo para que calcule las clasificaciones con el subconjunto de\n",
        "# prueba\n",
        "predicts_gru = model_gru.predict(X_test)"
      ],
      "execution_count": null,
      "outputs": []
    },
    {
      "cell_type": "code",
      "metadata": {
        "id": "NKrXAi7zpZYb",
        "outputId": "f8d4e948-de7a-465f-eb83-56c2573a475a",
        "colab": {
          "base_uri": "https://localhost:8080/",
          "height": 52
        }
      },
      "source": [
        "# Cálculo de la precisión con el método evaluate del modelo, empleando el subconjunto de prueba\n",
        "model_gru.evaluate(X_test,  y_test, verbose=2)"
      ],
      "execution_count": null,
      "outputs": [
        {
          "output_type": "stream",
          "text": [
            "782/782 - 3s - loss: 0.4494 - accuracy: 0.8320\n"
          ],
          "name": "stdout"
        },
        {
          "output_type": "execute_result",
          "data": {
            "text/plain": [
              "[0.4494389593601227, 0.8320000171661377]"
            ]
          },
          "metadata": {
            "tags": []
          },
          "execution_count": 53
        }
      ]
    },
    {
      "cell_type": "markdown",
      "metadata": {
        "id": "gfsyrtSWpZYe"
      },
      "source": [
        "Se pueden emplear otro tipo de métricas. Podemos obtener algunas con la ayuda de la librería para Inteligencia Artificial Scikit Learn"
      ]
    },
    {
      "cell_type": "code",
      "metadata": {
        "id": "mkZFGCebpZYf"
      },
      "source": [
        "logits_gru = np.round(predicts_gru).reshape((predicts_gru.shape[0]))"
      ],
      "execution_count": null,
      "outputs": []
    },
    {
      "cell_type": "code",
      "metadata": {
        "id": "gB2WEwSlpZYj",
        "outputId": "d86165c5-d80a-4a76-e4e5-a48b4e77bfe6",
        "colab": {
          "base_uri": "https://localhost:8080/",
          "height": 173
        }
      },
      "source": [
        "print(classification_report(y_test, logits_gru,\n",
        "                              target_names=['negativo', 'positivo']))"
      ],
      "execution_count": null,
      "outputs": [
        {
          "output_type": "stream",
          "text": [
            "              precision    recall  f1-score   support\n",
            "\n",
            "    negativo       0.91      0.74      0.81     12500\n",
            "    positivo       0.78      0.93      0.85     12500\n",
            "\n",
            "    accuracy                           0.83     25000\n",
            "   macro avg       0.84      0.83      0.83     25000\n",
            "weighted avg       0.84      0.83      0.83     25000\n",
            "\n"
          ],
          "name": "stdout"
        }
      ]
    },
    {
      "cell_type": "markdown",
      "metadata": {
        "id": "QXtDfchQpZYs"
      },
      "source": [
        "No obstante, si es interesante saber que la mayor parte de estas métricas se calculan a partir de datos que quedan reflejados en lo que es denominado una **matriz de confusión**, la cual ilustra la cantidad de aciertos y fallos cometidos por el modelo, de forma desglosada. \n",
        "\n",
        "Vamos a mostrar esta matriz para el modelo entrenado."
      ]
    },
    {
      "cell_type": "code",
      "metadata": {
        "id": "Z8u6Y7dZpZYt"
      },
      "source": [
        "# Función que convierte las salidas del modelo en una clase, para que pueda ser \n",
        "# asimilado por la función de cálculo de la matriz de confusión de SciKit Learn\n",
        "def confusion_matrix_binary(logits, ground_truth):\n",
        "  \n",
        "  logits = np.argmax(logits, axis=1)\n",
        "  \n",
        "  cm = confusion_matrix(ground_truth, logits)\n",
        "\n",
        "  return cm\n",
        "\n",
        "\n",
        "# Una función para hacer más atractiva e intuitiva la matriz de confusión\n",
        "def plot_pretty_confusion_matrix(cm, classes,\n",
        "                          normalize=False,\n",
        "                          title='Confusion matrix',\n",
        "                          cmap=plt.cm.Blues):\n",
        "  \"\"\"\n",
        "  This function prints and plots the confusion matrix.\n",
        "  Normalization can be applied by setting `normalize=True`.\n",
        "  \"\"\"\n",
        "  if normalize:\n",
        "      cm = cm.astype('float') / cm.sum(axis=1)[:, np.newaxis]\n",
        "      print(\"Normalized confusion matrix\")\n",
        "  else:\n",
        "      print('Confusion matrix, without normalization')\n",
        "\n",
        "  plt.rcParams[\"figure.figsize\"] = (len(classes)*3,len(classes)*3)\n",
        "\n",
        "  plt.imshow(cm, interpolation='nearest', cmap=cmap)\n",
        "  plt.title(title)\n",
        "  plt.colorbar()\n",
        "  tick_marks = np.arange(len(classes))\n",
        "  plt.xticks(tick_marks, classes, rotation=45)\n",
        "  plt.yticks(tick_marks, classes)\n",
        "\n",
        "  fmt = '.2f' if normalize else 'd'\n",
        "  thresh = cm.max() / 2.\n",
        "  for i, j in itertools.product(range(cm.shape[0]), range(cm.shape[1])):\n",
        "      plt.text(j, i, format(cm[i, j], fmt),\n",
        "                horizontalalignment=\"center\",\n",
        "                color=\"white\" if cm[i, j] > thresh else \"black\")\n",
        "\n",
        "  plt.tight_layout()\n",
        "  plt.ylabel('Etiquetas del dataset')\n",
        "  plt.xlabel('Predicciones/clasificación del modelo')\n"
      ],
      "execution_count": null,
      "outputs": []
    },
    {
      "cell_type": "code",
      "metadata": {
        "id": "9FA8z4CCpZYx",
        "outputId": "668b5917-1827-44a2-e3dc-44a309d104cc",
        "colab": {
          "base_uri": "https://localhost:8080/",
          "height": 449
        }
      },
      "source": [
        "# Calculamos la matriz de confusión de nuestro modelo, comparando los resultados\n",
        "# con las etiquetas del dataset correspondiente a cada muestra\n",
        "cm_gru = confusion_matrix(logits_gru, y_test)\n",
        "\n",
        "# Mostramos la matriz de confusión de forma intuitiva\n",
        "plot_pretty_confusion_matrix(cm_gru, classes=['negativo', 'positivo'],\n",
        "                          normalize=True,\n",
        "                          title='Matriz de confusión',\n",
        "                          cmap=plt.cm.Reds)"
      ],
      "execution_count": null,
      "outputs": [
        {
          "output_type": "stream",
          "text": [
            "Normalized confusion matrix\n"
          ],
          "name": "stdout"
        },
        {
          "output_type": "display_data",
          "data": {
            "image/png": "[encoded data removed]",
            "text/plain": [
              "<Figure size 432x432 with 2 Axes>"
            ]
          },
          "metadata": {
            "tags": [],
            "needs_background": "light"
          }
        }
      ]
    },
    {
      "cell_type": "markdown",
      "metadata": {
        "id": "zkAnuSRnhbol"
      },
      "source": [
        "## ¿Te animas a continuar? \n",
        "\n",
        "Con lo anterior ya tenemos un modelo a nuestra disposición. Sin embargo, quedan una serie de pasos por realizar para trabajar y exprimir las utilidades de CUBE IDE. En concreto, falta por realizar:\n",
        "\n",
        "1. **Esencial**: descargar el modelo de Keras para embeberlo en CUBE-AI. ***Nota***: recuerda que puede haber problemas de versiones, por lo que es recomendable hacer un downgrade de la versión de Tensorflow.\n",
        "\n",
        "2. **Interesante e ilustrativo, extraer el dataset**: La extracción del dataset para poder hacer una evaluación meticulosa del modelo embebido. Recuerda que ha de descargarse en csv y con una forma adecuada para que sea asimilable por la herramienta.\n",
        "\n",
        "3. **Para sacar el máximo provecho, cuantizar**: Tratar de cuantizar el modelo. Si queremos aprovechar al máximo las bondades de la herramienta y mejorar la eficiencia de nuestro sistema embebido, la labor de cuantizar es casi imperativa, sobre todo con placas de bajo consumo. Esta es una buena meta a alcanzar.\n"
      ]
    },
    {
      "cell_type": "code",
      "metadata": {
        "id": "31NoD7wqotyS"
      },
      "source": [
        ""
      ],
      "execution_count": null,
      "outputs": []
    }
  ]
}