{
  "nbformat": 4,
  "nbformat_minor": 0,
  "metadata": {
    "colab": {
      "name": "MNIST y ANN - Entrenamiento evaluacion y descarga - version TF donwngrade.ipynb",
      "provenance": [],
      "collapsed_sections": [],
      "toc_visible": true,
      "include_colab_link": true
    },
    "kernelspec": {
      "display_name": "Python 3",
      "name": "python3"
    },
    "accelerator": "GPU"
  },
  "cells": [
    {
      "cell_type": "markdown",
      "metadata": {
        "id": "view-in-github",
        "colab_type": "text"
      },
      "source": [
        "<a href=\"https://colab.research.google.com/github/FranciscoLuna/curso_ICE_STM32CUBEIDE/blob/master/MNIST_y_ANN_Entrenamiento_evaluacion_y_descarga_version_TF_donwngrade.ipynb\" target=\"_parent\"><img src=\"https://colab.research.google.com/assets/colab-badge.svg\" alt=\"Open In Colab\"/></a>"
      ]
    },
    {
      "cell_type": "code",
      "metadata": {
        "id": "Yxzqx2X7pmWP",
        "outputId": "1ca7ab4b-0f9f-45cb-da7d-957332342eaa",
        "colab": {
          "base_uri": "https://localhost:8080/",
          "height": 1000
        }
      },
      "source": [
        "!pip install q tensorflow==2.1"
      ],
      "execution_count": null,
      "outputs": [
        {
          "output_type": "stream",
          "text": [
            "Requirement already satisfied: q in /usr/local/lib/python3.6/dist-packages (2.6)\n",
            "Collecting tensorflow==2.1\n",
            "\u001b[?25l  Downloading https://files.pythonhosted.org/packages/85/d4/c0cd1057b331bc38b65478302114194bd8e1b9c2bbc06e300935c0e93d90/tensorflow-2.1.0-cp36-cp36m-manylinux2010_x86_64.whl (421.8MB)\n",
            "\u001b[K     |████████████████████████████████| 421.8MB 38kB/s \n",
            "\u001b[?25hCollecting tensorboard<2.2.0,>=2.1.0\n",
            "\u001b[?25l  Downloading https://files.pythonhosted.org/packages/d9/41/bbf49b61370e4f4d245d4c6051dfb6db80cec672605c91b1652ac8cc3d38/tensorboard-2.1.1-py3-none-any.whl (3.8MB)\n",
            "\u001b[K     |████████████████████████████████| 3.9MB 39.2MB/s \n",
            "\u001b[?25hRequirement already satisfied: wrapt>=1.11.1 in /usr/local/lib/python3.6/dist-packages (from tensorflow==2.1) (1.12.1)\n",
            "Requirement already satisfied: opt-einsum>=2.3.2 in /usr/local/lib/python3.6/dist-packages (from tensorflow==2.1) (3.3.0)\n",
            "Collecting tensorflow-estimator<2.2.0,>=2.1.0rc0\n",
            "\u001b[?25l  Downloading https://files.pythonhosted.org/packages/18/90/b77c328a1304437ab1310b463e533fa7689f4bfc41549593056d812fab8e/tensorflow_estimator-2.1.0-py2.py3-none-any.whl (448kB)\n",
            "\u001b[K     |████████████████████████████████| 450kB 29.2MB/s \n",
            "\u001b[?25hRequirement already satisfied: grpcio>=1.8.6 in /usr/local/lib/python3.6/dist-packages (from tensorflow==2.1) (1.32.0)\n",
            "Requirement already satisfied: six>=1.12.0 in /usr/local/lib/python3.6/dist-packages (from tensorflow==2.1) (1.15.0)\n",
            "Requirement already satisfied: termcolor>=1.1.0 in /usr/local/lib/python3.6/dist-packages (from tensorflow==2.1) (1.1.0)\n",
            "Requirement already satisfied: absl-py>=0.7.0 in /usr/local/lib/python3.6/dist-packages (from tensorflow==2.1) (0.10.0)\n",
            "Requirement already satisfied: astor>=0.6.0 in /usr/local/lib/python3.6/dist-packages (from tensorflow==2.1) (0.8.1)\n",
            "Collecting keras-applications>=1.0.8\n",
            "\u001b[?25l  Downloading https://files.pythonhosted.org/packages/71/e3/19762fdfc62877ae9102edf6342d71b28fbfd9dea3d2f96a882ce099b03f/Keras_Applications-1.0.8-py3-none-any.whl (50kB)\n",
            "\u001b[K     |████████████████████████████████| 51kB 3.8MB/s \n",
            "\u001b[?25hRequirement already satisfied: keras-preprocessing>=1.1.0 in /usr/local/lib/python3.6/dist-packages (from tensorflow==2.1) (1.1.2)\n",
            "Requirement already satisfied: google-pasta>=0.1.6 in /usr/local/lib/python3.6/dist-packages (from tensorflow==2.1) (0.2.0)\n",
            "Requirement already satisfied: wheel>=0.26; python_version >= \"3\" in /usr/local/lib/python3.6/dist-packages (from tensorflow==2.1) (0.35.1)\n",
            "Requirement already satisfied: numpy<2.0,>=1.16.0 in /usr/local/lib/python3.6/dist-packages (from tensorflow==2.1) (1.18.5)\n",
            "Requirement already satisfied: scipy==1.4.1; python_version >= \"3\" in /usr/local/lib/python3.6/dist-packages (from tensorflow==2.1) (1.4.1)\n",
            "Requirement already satisfied: protobuf>=3.8.0 in /usr/local/lib/python3.6/dist-packages (from tensorflow==2.1) (3.12.4)\n",
            "Collecting gast==0.2.2\n",
            "  Downloading https://files.pythonhosted.org/packages/4e/35/11749bf99b2d4e3cceb4d55ca22590b0d7c2c62b9de38ac4a4a7f4687421/gast-0.2.2.tar.gz\n",
            "Requirement already satisfied: google-auth-oauthlib<0.5,>=0.4.1 in /usr/local/lib/python3.6/dist-packages (from tensorboard<2.2.0,>=2.1.0->tensorflow==2.1) (0.4.1)\n",
            "Requirement already satisfied: requests<3,>=2.21.0 in /usr/local/lib/python3.6/dist-packages (from tensorboard<2.2.0,>=2.1.0->tensorflow==2.1) (2.23.0)\n",
            "Requirement already satisfied: werkzeug>=0.11.15 in /usr/local/lib/python3.6/dist-packages (from tensorboard<2.2.0,>=2.1.0->tensorflow==2.1) (1.0.1)\n",
            "Requirement already satisfied: markdown>=2.6.8 in /usr/local/lib/python3.6/dist-packages (from tensorboard<2.2.0,>=2.1.0->tensorflow==2.1) (3.2.2)\n",
            "Requirement already satisfied: google-auth<2,>=1.6.3 in /usr/local/lib/python3.6/dist-packages (from tensorboard<2.2.0,>=2.1.0->tensorflow==2.1) (1.17.2)\n",
            "Requirement already satisfied: setuptools>=41.0.0 in /usr/local/lib/python3.6/dist-packages (from tensorboard<2.2.0,>=2.1.0->tensorflow==2.1) (50.3.0)\n",
            "Requirement already satisfied: h5py in /usr/local/lib/python3.6/dist-packages (from keras-applications>=1.0.8->tensorflow==2.1) (2.10.0)\n",
            "Requirement already satisfied: requests-oauthlib>=0.7.0 in /usr/local/lib/python3.6/dist-packages (from google-auth-oauthlib<0.5,>=0.4.1->tensorboard<2.2.0,>=2.1.0->tensorflow==2.1) (1.3.0)\n",
            "Requirement already satisfied: chardet<4,>=3.0.2 in /usr/local/lib/python3.6/dist-packages (from requests<3,>=2.21.0->tensorboard<2.2.0,>=2.1.0->tensorflow==2.1) (3.0.4)\n",
            "Requirement already satisfied: idna<3,>=2.5 in /usr/local/lib/python3.6/dist-packages (from requests<3,>=2.21.0->tensorboard<2.2.0,>=2.1.0->tensorflow==2.1) (2.10)\n",
            "Requirement already satisfied: urllib3!=1.25.0,!=1.25.1,<1.26,>=1.21.1 in /usr/local/lib/python3.6/dist-packages (from requests<3,>=2.21.0->tensorboard<2.2.0,>=2.1.0->tensorflow==2.1) (1.24.3)\n",
            "Requirement already satisfied: certifi>=2017.4.17 in /usr/local/lib/python3.6/dist-packages (from requests<3,>=2.21.0->tensorboard<2.2.0,>=2.1.0->tensorflow==2.1) (2020.6.20)\n",
            "Requirement already satisfied: importlib-metadata; python_version < \"3.8\" in /usr/local/lib/python3.6/dist-packages (from markdown>=2.6.8->tensorboard<2.2.0,>=2.1.0->tensorflow==2.1) (1.7.0)\n",
            "Requirement already satisfied: rsa<5,>=3.1.4; python_version >= \"3\" in /usr/local/lib/python3.6/dist-packages (from google-auth<2,>=1.6.3->tensorboard<2.2.0,>=2.1.0->tensorflow==2.1) (4.6)\n",
            "Requirement already satisfied: cachetools<5.0,>=2.0.0 in /usr/local/lib/python3.6/dist-packages (from google-auth<2,>=1.6.3->tensorboard<2.2.0,>=2.1.0->tensorflow==2.1) (4.1.1)\n",
            "Requirement already satisfied: pyasn1-modules>=0.2.1 in /usr/local/lib/python3.6/dist-packages (from google-auth<2,>=1.6.3->tensorboard<2.2.0,>=2.1.0->tensorflow==2.1) (0.2.8)\n",
            "Requirement already satisfied: oauthlib>=3.0.0 in /usr/local/lib/python3.6/dist-packages (from requests-oauthlib>=0.7.0->google-auth-oauthlib<0.5,>=0.4.1->tensorboard<2.2.0,>=2.1.0->tensorflow==2.1) (3.1.0)\n",
            "Requirement already satisfied: zipp>=0.5 in /usr/local/lib/python3.6/dist-packages (from importlib-metadata; python_version < \"3.8\"->markdown>=2.6.8->tensorboard<2.2.0,>=2.1.0->tensorflow==2.1) (3.1.0)\n",
            "Requirement already satisfied: pyasn1>=0.1.3 in /usr/local/lib/python3.6/dist-packages (from rsa<5,>=3.1.4; python_version >= \"3\"->google-auth<2,>=1.6.3->tensorboard<2.2.0,>=2.1.0->tensorflow==2.1) (0.4.8)\n",
            "Building wheels for collected packages: gast\n",
            "  Building wheel for gast (setup.py) ... \u001b[?25l\u001b[?25hdone\n",
            "  Created wheel for gast: filename=gast-0.2.2-cp36-none-any.whl size=7542 sha256=d287abf311b80b5dbc1e614558a717a5523b4c704573c0057fb865e83df8c939\n",
            "  Stored in directory: /root/.cache/pip/wheels/5c/2e/7e/a1d4d4fcebe6c381f378ce7743a3ced3699feb89bcfbdadadd\n",
            "Successfully built gast\n",
            "\u001b[31mERROR: tensorflow-probability 0.11.0 has requirement gast>=0.3.2, but you'll have gast 0.2.2 which is incompatible.\u001b[0m\n",
            "Installing collected packages: tensorboard, tensorflow-estimator, keras-applications, gast, tensorflow\n",
            "  Found existing installation: tensorboard 2.2.2\n",
            "    Uninstalling tensorboard-2.2.2:\n",
            "      Successfully uninstalled tensorboard-2.2.2\n",
            "  Found existing installation: tensorflow-estimator 2.2.0\n",
            "    Uninstalling tensorflow-estimator-2.2.0:\n",
            "      Successfully uninstalled tensorflow-estimator-2.2.0\n",
            "  Found existing installation: gast 0.3.3\n",
            "    Uninstalling gast-0.3.3:\n",
            "      Successfully uninstalled gast-0.3.3\n",
            "  Found existing installation: tensorflow 2.2.0\n",
            "    Uninstalling tensorflow-2.2.0:\n",
            "      Successfully uninstalled tensorflow-2.2.0\n",
            "Successfully installed gast-0.2.2 keras-applications-1.0.8 tensorboard-2.1.1 tensorflow-2.1.0 tensorflow-estimator-2.1.0\n"
          ],
          "name": "stdout"
        },
        {
          "output_type": "display_data",
          "data": {
            "application/vnd.colab-display-data+json": {
              "pip_warning": {
                "packages": [
                  "gast",
                  "tensorboard",
                  "tensorflow"
                ]
              }
            }
          },
          "metadata": {
            "tags": []
          }
        }
      ]
    },
    {
      "cell_type": "markdown",
      "metadata": {
        "id": "LYfFaPms6DmE"
      },
      "source": [
        "# Clasificación de números manuscritos con Redes Neuronales Artificiales (ANN)"
      ]
    },
    {
      "cell_type": "markdown",
      "metadata": {
        "id": "_9fYGK3M6E4Q"
      },
      "source": [
        "En este cuaderno vamos a entrenar un modelo de Percentrón Multicapa para que reconozca números escritos de un sólo dígito. Para ello, vamos a usar el conjunto de datos (o dataset) clásico de MNIST. "
      ]
    },
    {
      "cell_type": "code",
      "metadata": {
        "id": "0trJmd6DjqBZ"
      },
      "source": [
        "# Antes de nada, importamos las librerías que nos puedan hacer falta\n",
        "\n",
        "import tensorflow as tf # Para crear modelos de Aprendizaje Profundo \n",
        "\n",
        "import matplotlib.pyplot as plt # Para graficar imágenes y gráficas de evaluación\n",
        "\n",
        "import numpy as np # Nos permite trabajar con estructuras vectoriales eficientes\n",
        "                   # que son además las que emplea tensorflow \n",
        "\n",
        "import math # Operaciones matemáticas\n",
        "\n",
        "# métodos para calcular métricas y matriz de confusión\n",
        "from sklearn.metrics import confusion_matrix, classification_report \n",
        "\n",
        "import itertools # funciones eficientes sobre elementos iterables"
      ],
      "execution_count": null,
      "outputs": []
    },
    {
      "cell_type": "code",
      "metadata": {
        "id": "2DesTEeaZJ15",
        "outputId": "855952a5-0668-4203-a4ee-45eb9271df82",
        "colab": {
          "base_uri": "https://localhost:8080/",
          "height": 35
        }
      },
      "source": [
        "print(tf.keras.__version__)"
      ],
      "execution_count": null,
      "outputs": [
        {
          "output_type": "stream",
          "text": [
            "2.2.4-tf\n"
          ],
          "name": "stdout"
        }
      ]
    },
    {
      "cell_type": "markdown",
      "metadata": {
        "id": "dfgqcLsb6E6l"
      },
      "source": [
        "## El dataset MNIST"
      ]
    },
    {
      "cell_type": "markdown",
      "metadata": {
        "id": "ECCDYfad6E9I"
      },
      "source": [
        "Este dataset puede considerarse uno de los primeros recursos empleados para sentar las bases del Aprendizaje Profundo o Deep Learning. Contiene varias muestras de dígitos escritos de forma manuscrita, que han sido digitalizados en imágenes de 28x28. \n",
        "\n",
        "Este dataset está disponible para su descarga desde la API de tensorflow, de modo que es muy accesible y flexible, ideal para comenzar a probar modelos de Aprendizaje Automático."
      ]
    },
    {
      "cell_type": "code",
      "metadata": {
        "id": "7FP5258xjs-v",
        "outputId": "95421197-f1c5-444b-bdd4-18335d96cefe",
        "colab": {
          "base_uri": "https://localhost:8080/",
          "height": 89
        }
      },
      "source": [
        "# Creamos el objeto necesario para extraer el dataset\n",
        "mnist = tf.keras.datasets.mnist\n",
        "\n",
        "# Para llevar a cabo un entrenamiento y comprobar su efectividad, el modo más \n",
        "# simple es dividir el conjunto de datos en subconjuntos de entrenamiento y prueba.\n",
        "# El metodo load_data sin parámetros divide el conjunto de esta forma, separando \n",
        "# además lo que son las entradas (las imagenes 28x28) de las etiquetas (el \n",
        "# dígito -0 al 9- que queda representado en la imagen)\n",
        "(x_train, y_train), (x_test, y_test) = mnist.load_data()\n",
        "\n",
        "\n",
        "n_samples_train = len(x_train)\n",
        "n_samples_test = len(x_test)\n",
        "n_samples = n_samples_train + n_samples_test\n",
        "print(\"La relación de muestras entre los dos subconjuntos es del {:.2%} en \" \n",
        "        \"subconjunto de entrenamiento y del {:.2%}, de prueba\".format(\n",
        "            n_samples_train/n_samples, n_samples_test/n_samples))\n",
        "\n",
        "\n",
        "# Las imágenes están en escala de grises, con una resolución de 256 valores. Es\n",
        "# común en problemas de clasificación realizar una normalización y escalar ese\n",
        "# rango de valores al intervalo [0,1], si bien no es necesario. Puede probarse el\n",
        "# realizar el entrenamiento sin hacer esta conversión.\n",
        "x_train, x_test = x_train / 255.0, x_test / 255.0\n"
      ],
      "execution_count": null,
      "outputs": [
        {
          "output_type": "stream",
          "text": [
            "Downloading data from https://storage.googleapis.com/tensorflow/tf-keras-datasets/mnist.npz\n",
            "11493376/11490434 [==============================] - 0s 0us/step\n",
            "La relación de muestras entre los dos subconjuntos es del 85.71% en subconjunto de entrenamiento y del 14.29%, de prueba\n"
          ],
          "name": "stdout"
        }
      ]
    },
    {
      "cell_type": "code",
      "metadata": {
        "id": "8o8sALTOEskW"
      },
      "source": [
        "# Una pequeña función para graficar muestras aleatorias\n",
        "\n",
        "def random_mnist_sample_plot(n_samples, mnist_set):\n",
        "\n",
        "  rnd_index = np.random.choice(mnist_set.shape[0], size=(n_samples,), replace=False)\n",
        "  subset = mnist_set[rnd_index]\n",
        "\n",
        "  grid_width = 5\n",
        "  grid_length = math.ceil(n_samples/grid_width)\n",
        "  \n",
        "  plt.figure(figsize=(15,10)) # specifying the overall grid size\n",
        "\n",
        "  for i in range(n_samples):\n",
        "      plt.subplot(grid_length,grid_width,i+1)    # the number of images in the grid is 5*5 (25)\n",
        "      plt.imshow(subset[i], cmap='gray')"
      ],
      "execution_count": null,
      "outputs": []
    },
    {
      "cell_type": "code",
      "metadata": {
        "id": "OeAqwRZ_PZc6",
        "outputId": "f6491c36-d52b-4fd2-bcbd-365fb114a5ad",
        "colab": {
          "base_uri": "https://localhost:8080/",
          "height": 593
        }
      },
      "source": [
        "# Una muestra del MNIST\n",
        "random_mnist_sample_plot(20, x_train)"
      ],
      "execution_count": null,
      "outputs": [
        {
          "output_type": "display_data",
          "data": {
            "image/png": "[encoded data removed]",
            "text/plain": [
              "<Figure size 1080x720 with 20 Axes>"
            ]
          },
          "metadata": {
            "tags": [],
            "needs_background": "light"
          }
        }
      ]
    },
    {
      "cell_type": "markdown",
      "metadata": {
        "id": "iYHZ09UP6E_q"
      },
      "source": [
        "Algunas de las muestras pueden ser complicadas de identificar su dígito incluso para una persona. Este problema tiene por ello cierta dificultad y es perfecto para probar el comportamiento y efectividad de modelos de Aprendizaje Profundo."
      ]
    },
    {
      "cell_type": "markdown",
      "metadata": {
        "id": "LtXtW217UijY"
      },
      "source": [
        "## Un modelo de Red Neuronal Artificial sencillo"
      ]
    },
    {
      "cell_type": "markdown",
      "metadata": {
        "id": "Ph5Cg_p9Uijd"
      },
      "source": [
        "Vamos a crear un modelo sencillo con el que trabajar. No pretendemos alcanzar el máximo rendimiento, sino ejemplificar todo el proceso de creación, entrenamiento, validación y descarga de un modelo. Por ello, no entraremos en detalle sobre parámetros de entrenamiento ni nos dedicaremos a hacer un procesamiento de análisis y optimización exhaustivo.\n",
        "\n",
        "Los modelos básicos pueden crearse con las clases de la librería de alto nivel Keras, integrado en la propia librería de Tensorflow desde su versión 2.0. Los modelos más típicos son los que \"apilan\" capas de forma sucesiva (propiedad que coincide con una Red Neuronal Multicapa tradicional). Esto puede realizarse a partir de `tf.keras.Sequential`. "
      ]
    },
    {
      "cell_type": "code",
      "metadata": {
        "id": "h3IKyzTCDNGo"
      },
      "source": [
        "\n",
        "\"\"\"\n",
        "# Esta es una forma \"compacta\" de crear un modelo secuencia con una sola línea.\n",
        "\n",
        "model = tf.keras.models.Sequential([\n",
        "  tf.keras.layers.Flatten(input_shape=(28, 28)),\n",
        "  tf.keras.layers.Dense(128, activation='relu'),\n",
        "  tf.keras.layers.Dropout(0.2),\n",
        "  tf.keras.layers.Dense(10, activation='softmax')\n",
        "])\n",
        "\n",
        "\"\"\"\n",
        "\n",
        "# Modelo creado añadiendo capas progresivamente, equivalente al anterior\n",
        "\n",
        "model = tf.keras.models.Sequential() # El modelo secuencial vacio inicialmente\n",
        "\n",
        "model.add(tf.keras.Input(shape=(28, 28))) # Podemos describir la forma de la entrada\n",
        "                                          # como si de una capa se tratase. \n",
        "model.add(tf.keras.layers.Flatten()) # Esta capa \"aplana\" la imagen, es decir, pasa\n",
        "                                     # la matriz de valores a un vector unidimensional.\n",
        "model.add(tf.keras.layers.Dense(128, activation='relu')) # Una capa Densa o Fully-Connected.\n",
        "model.add(tf.keras.layers.Dropout(0.2)) # Empleamos Dropout, una técnica que inhabilita \n",
        "                                        # un % de nodos de la capa anterior de forma aleatoria\n",
        "                                        # durante el entrenamiento, que ayuda a la generalización\n",
        "                                        # del modelo evitando el sobre ajuste de los nodos a los\n",
        "                                        # ejemplos particulares usados.\n",
        "model.add(tf.keras.layers.Dense(10, activation='softmax')) # Una última capa Densa, ya como salida.\n",
        "                                                           # Se la ha dotado de 10 nodos, tantos como\n",
        "                                                           # dígitos diferentes consideramos para su \n",
        "                                                           # clasificación (0 al 9)\n"
      ],
      "execution_count": null,
      "outputs": []
    },
    {
      "cell_type": "code",
      "metadata": {
        "id": "WZMm8zMbbLmr",
        "outputId": "bbf6cee0-b0fb-45c0-995b-570f6b8c63e2",
        "colab": {
          "base_uri": "https://localhost:8080/",
          "height": 295
        }
      },
      "source": [
        "model.summary() # Con este método podemos comprobar que nuestra red tiene las \n",
        "                # capas añadidas y ver alguna información adicional"
      ],
      "execution_count": null,
      "outputs": [
        {
          "output_type": "stream",
          "text": [
            "Model: \"sequential\"\n",
            "_________________________________________________________________\n",
            "Layer (type)                 Output Shape              Param #   \n",
            "=================================================================\n",
            "flatten (Flatten)            (None, 784)               0         \n",
            "_________________________________________________________________\n",
            "dense (Dense)                (None, 128)               100480    \n",
            "_________________________________________________________________\n",
            "dropout (Dropout)            (None, 128)               0         \n",
            "_________________________________________________________________\n",
            "dense_1 (Dense)              (None, 10)                1290      \n",
            "=================================================================\n",
            "Total params: 101,770\n",
            "Trainable params: 101,770\n",
            "Non-trainable params: 0\n",
            "_________________________________________________________________\n"
          ],
          "name": "stdout"
        }
      ]
    },
    {
      "cell_type": "markdown",
      "metadata": {
        "id": "BPZ68wASog_I"
      },
      "source": [
        "### Entrenamiento del modelo\n",
        "\n",
        "Elegimos un optimizador y una funcion de perdida para el entrenamiento del modelo."
      ]
    },
    {
      "cell_type": "code",
      "metadata": {
        "id": "T0n5irqjbLpO"
      },
      "source": [
        "# El modelo se inicializa para su entrenamiento con el método compile\n",
        "# El loss SparseCategoricalCrossEntropy permite introducir las etiquetas sin\n",
        "# necesidad de codificarlas en One-Hot\n",
        "model.compile(optimizer='adam',\n",
        "              loss='sparse_categorical_crossentropy',\n",
        "              metrics=['accuracy'])"
      ],
      "execution_count": null,
      "outputs": []
    },
    {
      "cell_type": "markdown",
      "metadata": {
        "id": "ix4mEL65on-w"
      },
      "source": [
        "Finalmente, procedemos al entrenamiento del modelo"
      ]
    },
    {
      "cell_type": "code",
      "metadata": {
        "id": "F7dTAzgHDUh7",
        "outputId": "0ef0b3ec-f596-4127-ff6d-969e05d3e0fd",
        "colab": {
          "base_uri": "https://localhost:8080/",
          "height": 765
        }
      },
      "source": [
        "# Con este método del modelo podemos entrenarlo. El parámetro \"validation_data\"\n",
        "# es opcional y simplemente evalúa el modelo con los datos proporcionados en cada\n",
        "# época, pero no serán empleados para el entrenamiento (en nuestro caso, le hemos\n",
        "# proporcionado el subconjunto de prueba)\n",
        "model.fit(x_train, y_train, validation_data=(x_test, y_test),  epochs=20)"
      ],
      "execution_count": null,
      "outputs": [
        {
          "output_type": "stream",
          "text": [
            "Train on 60000 samples, validate on 10000 samples\n",
            "Epoch 1/20\n",
            "60000/60000 [==============================] - 8s 140us/sample - loss: 0.3011 - accuracy: 0.9112 - val_loss: 0.1416 - val_accuracy: 0.9609\n",
            "Epoch 2/20\n",
            "60000/60000 [==============================] - 7s 112us/sample - loss: 0.1458 - accuracy: 0.9567 - val_loss: 0.1114 - val_accuracy: 0.9683\n",
            "Epoch 3/20\n",
            "60000/60000 [==============================] - 7s 110us/sample - loss: 0.1120 - accuracy: 0.9661 - val_loss: 0.0876 - val_accuracy: 0.9739\n",
            "Epoch 4/20\n",
            "60000/60000 [==============================] - 7s 117us/sample - loss: 0.0910 - accuracy: 0.9722 - val_loss: 0.0824 - val_accuracy: 0.9741\n",
            "Epoch 5/20\n",
            "60000/60000 [==============================] - 7s 112us/sample - loss: 0.0778 - accuracy: 0.9760 - val_loss: 0.0879 - val_accuracy: 0.9722\n",
            "Epoch 6/20\n",
            "60000/60000 [==============================] - 7s 113us/sample - loss: 0.0672 - accuracy: 0.9786 - val_loss: 0.0806 - val_accuracy: 0.9753\n",
            "Epoch 7/20\n",
            "60000/60000 [==============================] - 7s 112us/sample - loss: 0.0589 - accuracy: 0.9813 - val_loss: 0.0736 - val_accuracy: 0.9777\n",
            "Epoch 8/20\n",
            "60000/60000 [==============================] - 7s 113us/sample - loss: 0.0550 - accuracy: 0.9818 - val_loss: 0.0738 - val_accuracy: 0.9788\n",
            "Epoch 9/20\n",
            "60000/60000 [==============================] - 7s 112us/sample - loss: 0.0497 - accuracy: 0.9833 - val_loss: 0.0761 - val_accuracy: 0.9793\n",
            "Epoch 10/20\n",
            "60000/60000 [==============================] - 7s 112us/sample - loss: 0.0463 - accuracy: 0.9846 - val_loss: 0.0769 - val_accuracy: 0.9773\n",
            "Epoch 11/20\n",
            "60000/60000 [==============================] - 7s 113us/sample - loss: 0.0434 - accuracy: 0.9859 - val_loss: 0.0699 - val_accuracy: 0.9810\n",
            "Epoch 12/20\n",
            "60000/60000 [==============================] - 7s 112us/sample - loss: 0.0397 - accuracy: 0.9865 - val_loss: 0.0738 - val_accuracy: 0.9788\n",
            "Epoch 13/20\n",
            "60000/60000 [==============================] - 7s 111us/sample - loss: 0.0389 - accuracy: 0.9869 - val_loss: 0.0729 - val_accuracy: 0.9792\n",
            "Epoch 14/20\n",
            "60000/60000 [==============================] - 7s 111us/sample - loss: 0.0344 - accuracy: 0.9880 - val_loss: 0.0789 - val_accuracy: 0.9773\n",
            "Epoch 15/20\n",
            "60000/60000 [==============================] - 7s 111us/sample - loss: 0.0327 - accuracy: 0.9890 - val_loss: 0.0865 - val_accuracy: 0.9786\n",
            "Epoch 16/20\n",
            "60000/60000 [==============================] - 7s 110us/sample - loss: 0.0317 - accuracy: 0.9896 - val_loss: 0.0858 - val_accuracy: 0.9788\n",
            "Epoch 17/20\n",
            "60000/60000 [==============================] - 7s 110us/sample - loss: 0.0307 - accuracy: 0.9893 - val_loss: 0.0849 - val_accuracy: 0.9799\n",
            "Epoch 18/20\n",
            "60000/60000 [==============================] - 7s 110us/sample - loss: 0.0315 - accuracy: 0.9893 - val_loss: 0.0816 - val_accuracy: 0.9802\n",
            "Epoch 19/20\n",
            "60000/60000 [==============================] - 7s 110us/sample - loss: 0.0271 - accuracy: 0.9909 - val_loss: 0.0885 - val_accuracy: 0.9780\n",
            "Epoch 20/20\n",
            "60000/60000 [==============================] - 7s 110us/sample - loss: 0.0271 - accuracy: 0.9905 - val_loss: 0.0836 - val_accuracy: 0.9817\n"
          ],
          "name": "stdout"
        },
        {
          "output_type": "execute_result",
          "data": {
            "text/plain": [
              "<tensorflow.python.keras.callbacks.History at 0x7f2489e4dd68>"
            ]
          },
          "metadata": {
            "tags": []
          },
          "execution_count": 11
        }
      ]
    },
    {
      "cell_type": "markdown",
      "metadata": {
        "id": "utvvaUgU7jXk"
      },
      "source": [
        "### Evaluando el modelo\n",
        "\n",
        "El modo más básico de evaluar un modelo de clasificación es a partir de la métrica de precisión o accuracy. "
      ]
    },
    {
      "cell_type": "code",
      "metadata": {
        "id": "HT7uV0PGjL8i",
        "outputId": "cdf2b7ed-0243-418a-8c24-2c6f7e495996",
        "colab": {
          "base_uri": "https://localhost:8080/",
          "height": 52
        }
      },
      "source": [
        "# Cálculo de la precisión con el método evaluate del modelo, empleando el subconjunto de prueba\n",
        "model.evaluate(x_test,  y_test, verbose=2)"
      ],
      "execution_count": null,
      "outputs": [
        {
          "output_type": "stream",
          "text": [
            "10000/10000 - 1s - loss: 0.0836 - accuracy: 0.9817\n"
          ],
          "name": "stdout"
        },
        {
          "output_type": "execute_result",
          "data": {
            "text/plain": [
              "[0.08364677021316384, 0.9817]"
            ]
          },
          "metadata": {
            "tags": []
          },
          "execution_count": 12
        }
      ]
    },
    {
      "cell_type": "markdown",
      "metadata": {
        "id": "T4JfEh7kvx6m"
      },
      "source": [
        "Se pueden emplear otro tipo de métricas. Podemos obtener algunas con la ayuda de la librería para Inteligencia Artificial Scikit Learn"
      ]
    },
    {
      "cell_type": "code",
      "metadata": {
        "id": "7TAsi-O5vYUC"
      },
      "source": [
        "def otras_metricas(logits, ground_truth, classes):\n",
        "  logits = np.argmax(logits, axis=1)\n",
        "  print(classification_report(ground_truth, logits,\n",
        "                              target_names=classes))"
      ],
      "execution_count": null,
      "outputs": []
    },
    {
      "cell_type": "code",
      "metadata": {
        "id": "zkNSpAx1wVNh",
        "outputId": "cd03ad9b-be95-49f1-91f6-39de4037201f",
        "colab": {
          "base_uri": "https://localhost:8080/",
          "height": 312
        }
      },
      "source": [
        "# Llamamos al modelo para que calcule las clasificaciones con el subconjunto de\n",
        "# prueba\n",
        "predicts = model.predict(x_test)\n",
        "\n",
        "# Hallamos las métricas\n",
        "otras_metricas(predicts, y_test, classes=['0', '1', '2', '3', '4', '5', '6', '7', '8', '9'])"
      ],
      "execution_count": null,
      "outputs": [
        {
          "output_type": "stream",
          "text": [
            "              precision    recall  f1-score   support\n",
            "\n",
            "           0       0.99      0.99      0.99       980\n",
            "           1       0.99      0.99      0.99      1135\n",
            "           2       0.98      0.98      0.98      1032\n",
            "           3       0.97      0.98      0.97      1010\n",
            "           4       0.99      0.98      0.98       982\n",
            "           5       0.99      0.97      0.98       892\n",
            "           6       0.98      0.99      0.98       958\n",
            "           7       0.98      0.97      0.98      1028\n",
            "           8       0.98      0.98      0.98       974\n",
            "           9       0.98      0.98      0.98      1009\n",
            "\n",
            "    accuracy                           0.98     10000\n",
            "   macro avg       0.98      0.98      0.98     10000\n",
            "weighted avg       0.98      0.98      0.98     10000\n",
            "\n"
          ],
          "name": "stdout"
        }
      ]
    },
    {
      "cell_type": "markdown",
      "metadata": {
        "id": "_BZAg9TGvYJ6"
      },
      "source": [
        "No obstante, si es interesante saber que la mayor parte de estas métricas se calculan a partir de datos que quedan reflejados en lo que es denominado una **matriz de confusión**, la cual ilustra la cantidad de aciertos y fallos cometidos por el modelo, de forma desglosada. \n",
        "\n",
        "Vamos a mostrar esta matriz para el modelo entrenado."
      ]
    },
    {
      "cell_type": "code",
      "metadata": {
        "id": "zZE7jKH_AA87"
      },
      "source": [
        "# Función que convierte las salidas del modelo en una clase, para que pueda ser \n",
        "# asimilado por la función de cálculo de la matriz de confusión de SciKit Learn\n",
        "def confusion_matrix_v2(logits, ground_truth):\n",
        "  \n",
        "  logits = np.argmax(logits, axis=1)\n",
        "  \n",
        "  cm = confusion_matrix(ground_truth, logits)\n",
        "\n",
        "  return cm\n",
        "\n",
        "\n",
        "# Una función para hacer más atractiva e intuitiva la matriz de confusión\n",
        "def plot_pretty_confusion_matrix(cm, classes,\n",
        "                          normalize=False,\n",
        "                          title='Confusion matrix',\n",
        "                          cmap=plt.cm.Blues):\n",
        "  \"\"\"\n",
        "  This function prints and plots the confusion matrix.\n",
        "  Normalization can be applied by setting `normalize=True`.\n",
        "  \"\"\"\n",
        "  if normalize:\n",
        "      cm = cm.astype('float') / cm.sum(axis=1)[:, np.newaxis]\n",
        "      print(\"Normalized confusion matrix\")\n",
        "  else:\n",
        "      print('Confusion matrix, without normalization')\n",
        "\n",
        "  plt.rcParams[\"figure.figsize\"] = (len(classes),len(classes))\n",
        "\n",
        "  plt.imshow(cm, interpolation='nearest', cmap=cmap)\n",
        "  plt.title(title)\n",
        "  plt.colorbar()\n",
        "  tick_marks = np.arange(len(classes))\n",
        "  plt.xticks(tick_marks, classes, rotation=45)\n",
        "  plt.yticks(tick_marks, classes)\n",
        "\n",
        "  fmt = '.2f' if normalize else 'd'\n",
        "  thresh = cm.max() / 2.\n",
        "  for i, j in itertools.product(range(cm.shape[0]), range(cm.shape[1])):\n",
        "      plt.text(j, i, format(cm[i, j], fmt),\n",
        "                horizontalalignment=\"center\",\n",
        "                color=\"white\" if cm[i, j] > thresh else \"black\")\n",
        "\n",
        "  plt.tight_layout()\n",
        "  plt.ylabel('Etiquetas del dataset')\n",
        "  plt.xlabel('Predicciones/clasificación del modelo')\n"
      ],
      "execution_count": null,
      "outputs": []
    },
    {
      "cell_type": "code",
      "metadata": {
        "id": "yZDr8fZKBJkM",
        "outputId": "13c503ec-76a3-4576-a619-276281f57a2f",
        "colab": {
          "base_uri": "https://localhost:8080/",
          "height": 747
        }
      },
      "source": [
        "# Calculamos la matriz de confusión de nuestro modelo, comparando los resultados\n",
        "# con las etiquetas del dataset correspondiente a cada muestra\n",
        "cm = confusion_matrix_v2(predicts, y_test)\n",
        "\n",
        "# Mostramos la matriz de confusión de forma intuitiva\n",
        "plot_pretty_confusion_matrix(cm, classes=['0', '1', '2', '3', '4', '5', '6', '7', '8', '9'],\n",
        "                          normalize=True,\n",
        "                          title='Matriz de confusión',\n",
        "                          cmap=plt.cm.Reds)"
      ],
      "execution_count": null,
      "outputs": [
        {
          "output_type": "stream",
          "text": [
            "Normalized confusion matrix\n"
          ],
          "name": "stdout"
        },
        {
          "output_type": "display_data",
          "data": {
            "image/png": "[encoded data removed]",
            "text/plain": [
              "<Figure size 720x720 with 2 Axes>"
            ]
          },
          "metadata": {
            "tags": [],
            "needs_background": "light"
          }
        }
      ]
    },
    {
      "cell_type": "markdown",
      "metadata": {
        "id": "XGqC51LXIsII"
      },
      "source": [
        "### Descarga del modelo\n",
        "\n",
        "El modelo generado puede descargarse, para luego volver a ser cargado y/o usado en otros entornos, para seguir entrenándolo, manipularlo, hacer uso del mismo en un entorno ya desplegado como servicio, etc. "
      ]
    },
    {
      "cell_type": "code",
      "metadata": {
        "id": "1FK3MQBXBx_A",
        "outputId": "9a947d6c-fa47-4258-e3be-ea9d481f5271",
        "colab": {
          "base_uri": "https://localhost:8080/",
          "height": 107
        }
      },
      "source": [
        "# Guardando el modelo (tanto el modelo en sí junto con sus parámetros como los pesos)\n",
        "\n",
        "# model.save('mnist_full_model') # Si no se indica extensión, el modelo se \n",
        "                                 # guardará en una carpeta con una serie de \n",
        "                                 # ficheros, entre ellos el modelo en si con \n",
        "                                 # formato protobuf (.pb)\n",
        "\n",
        "model.save('mnist_full_model.h5') # Si se especifica esta extensión, el modelo\n",
        "                                   # queda guardado en un fichero HDF5, propio \n",
        "                                   # de Keras. \n",
        "\n",
        "# Guardado de únicamente los pesos del modelo\n",
        "model.save_weights('mnist_model_weights')"
      ],
      "execution_count": null,
      "outputs": [
        {
          "output_type": "stream",
          "text": [
            "WARNING:tensorflow:From /usr/local/lib/python3.6/dist-packages/tensorflow_core/python/ops/resource_variable_ops.py:1786: calling BaseResourceVariable.__init__ (from tensorflow.python.ops.resource_variable_ops) with constraint is deprecated and will be removed in a future version.\n",
            "Instructions for updating:\n",
            "If using Keras pass *_constraint arguments to layers.\n",
            "INFO:tensorflow:Assets written to: mnist_full_model/assets\n"
          ],
          "name": "stdout"
        }
      ]
    },
    {
      "cell_type": "code",
      "metadata": {
        "id": "D5ci5t2VRRFU",
        "outputId": "c56a3270-39a3-4d3c-fc02-7fa0c0db855c",
        "colab": {
          "base_uri": "https://localhost:8080/",
          "height": 139
        }
      },
      "source": [
        "# Para poder descargar la carpeta con el modelo protobuf, la comprimimos\n",
        "\n",
        "!zip -r mnist_full_model.zip mnist_full_model"
      ],
      "execution_count": null,
      "outputs": [
        {
          "output_type": "stream",
          "text": [
            "  adding: mnist_full_model/ (stored 0%)\n",
            "  adding: mnist_full_model/saved_model.pb (deflated 88%)\n",
            "  adding: mnist_full_model/variables/ (stored 0%)\n",
            "  adding: mnist_full_model/variables/variables.data-00000-of-00002 (deflated 76%)\n",
            "  adding: mnist_full_model/variables/variables.index (deflated 58%)\n",
            "  adding: mnist_full_model/variables/variables.data-00001-of-00002 (deflated 14%)\n",
            "  adding: mnist_full_model/assets/ (stored 0%)\n"
          ],
          "name": "stdout"
        }
      ]
    },
    {
      "cell_type": "markdown",
      "metadata": {
        "id": "h1RJwSB5MlsM"
      },
      "source": [
        "- **Probamos a cargar el modelo**"
      ]
    },
    {
      "cell_type": "code",
      "metadata": {
        "id": "ECD5jhFGJ5o6",
        "outputId": "b23dd89d-1329-4345-89ca-c1fd5b19a21e",
        "colab": {
          "base_uri": "https://localhost:8080/",
          "height": 52
        }
      },
      "source": [
        "# Carga del modelo de Keras, y de nuevo calculamos la precisión para comprobar \n",
        "# de forma simple que el modelo no haya sido perturbado\n",
        "\n",
        "model_returns = tf.keras.models.load_model('mnist_full_model.h5')\n",
        "\n",
        "\n",
        "model_returns.evaluate(x_test,  y_test, verbose=2)"
      ],
      "execution_count": null,
      "outputs": [
        {
          "output_type": "stream",
          "text": [
            "10000/10000 - 1s - loss: 0.0836 - accuracy: 0.9817\n"
          ],
          "name": "stdout"
        },
        {
          "output_type": "execute_result",
          "data": {
            "text/plain": [
              "[0.08364677021316384, 0.9817]"
            ]
          },
          "metadata": {
            "tags": []
          },
          "execution_count": 19
        }
      ]
    },
    {
      "cell_type": "markdown",
      "metadata": {
        "id": "Xc6xnh_3OOAY"
      },
      "source": [
        "Probablemente la precisión resultante sea completamente diferente (posiblemente desastrosa). ¿Por qué? Sencillamente porque, aunque el modelo y sus pesos se guardan intactos, no queda guardado absolutamente todo. Entre otras cosas, algunos parámetros de entrenamiento y evaluación no han quedado almacenados y, si no se especifica de nuevo, los métodos de evaluación pueden no ser coherentes con el modo en cómo se entrenó y evaluó el modelo. \n",
        "\n",
        "Para este caso, simplemente vamos a repetir la fase de \"compilación\" del modelo (que realmente no es una compilación per se, se trata de una configuración de los métodos relacionados con el entrenamiento y métricas de evaluación)."
      ]
    },
    {
      "cell_type": "code",
      "metadata": {
        "id": "SkbPsfGnNfR7",
        "outputId": "e0832051-bf88-49ff-cc98-0f6a1d7cd6fb",
        "colab": {
          "base_uri": "https://localhost:8080/",
          "height": 52
        }
      },
      "source": [
        "# Entre otras cosas, añadimos la métrica de precisión de nuevo, para que funcione\n",
        "# correctamente el método de evaluación.\n",
        "model_returns.compile(optimizer='adam',\n",
        "              loss='sparse_categorical_crossentropy',\n",
        "              metrics=['accuracy'])\n",
        "\n",
        "model_returns.evaluate(x_test,  y_test, verbose=2)"
      ],
      "execution_count": null,
      "outputs": [
        {
          "output_type": "stream",
          "text": [
            "10000/10000 - 1s - loss: 0.0836 - accuracy: 0.9817\n"
          ],
          "name": "stdout"
        },
        {
          "output_type": "execute_result",
          "data": {
            "text/plain": [
              "[0.08364677021316384, 0.9817]"
            ]
          },
          "metadata": {
            "tags": []
          },
          "execution_count": 20
        }
      ]
    },
    {
      "cell_type": "markdown",
      "metadata": {
        "id": "kq7a3grZPz6a"
      },
      "source": [
        "## Cuantización del modelo\n",
        "\n",
        "Los modelos de Deep Learning son computacionalmente muy costosos. Consumen gran cantidad de recursos, lo que repercute en los tiempos de ejecución e incluso imposibilita su ejecución en computadores de bajas prestaciones. \n",
        "\n",
        "Una de las técnicas que pretenden paliar este hecho en cierta medida es la cuantización de un modelo. Consiste dicho de forma simplificada en disminuir la \n",
        "resolución de los parámetros del modelo (o incluso adicionalmente los datos de entrada), para así poder ser soportadas por computadores cuya bajada de resolución le permita trabajar con el modelo y operar de forma más eficiente. \n",
        "\n",
        "La principal consecuencia de este cambio de resolución es que la efectividad del modelo puede verse mermada. No obstante, dadas las particularidades de las arquitecturas de Aprendizaje Profundo, con tantos parámetros el modelo resultante tiende a ser robusto y no perder demasiada precisión cuando se realiza esta conversión. Existen además distintas técnicas de cuantización para paliar en mayor cuantía esta disminución en la efectividad del modelo, que como suele ser habitual va de la mano de una mayor complejidad en el procedimiento de cuantización. En esta sección veremos algunos métodos simples y compararemos la efectividad con el modelo original sin cuantizar. \n",
        "\n",
        "### TF-Lite: la sublibrería de TF que permite la cuantización\n",
        "\n",
        "TF-Lite son un conjunto de herramientas, en forma de funciones, contenidos en la librería TensorFlow cuyo propósito es transformar los modelos de Aprendizaje Profundo para que sean asimilables por computadores de prestaciones más humildes, como móviles con procesadores y gráficas que no tienen la arquitectura NVIDIA, o microcontroladores, entre otros. \n",
        "\n",
        "### **Diferentes modos de conversión**"
      ]
    },
    {
      "cell_type": "code",
      "metadata": {
        "id": "oVVOrEorPM00"
      },
      "source": [
        "# Cargamos el modelo generado previamente\n",
        "\n",
        "clasical_model = tf.keras.models.load_model('mnist_full_model.h5')"
      ],
      "execution_count": null,
      "outputs": []
    },
    {
      "cell_type": "markdown",
      "metadata": {
        "id": "kOy-Ss-aT_L_"
      },
      "source": [
        "- #### **Conversión básica**\n",
        "\n",
        "Una vez generado y cargado el modelo, creamos el conversor y con él convertimos el modelo:"
      ]
    },
    {
      "cell_type": "code",
      "metadata": {
        "id": "gEpBtZ1UT63z"
      },
      "source": [
        "# Creamos el conversor\n",
        "converter = tf.lite.TFLiteConverter.from_keras_model(clasical_model)\n",
        "\n",
        "# Creamos el modelo de TFLite a partir del conversor\n",
        "tflite_model = converter.convert()"
      ],
      "execution_count": null,
      "outputs": []
    },
    {
      "cell_type": "code",
      "metadata": {
        "id": "_u54L60CyHaT"
      },
      "source": [
        "with open('mnist_basic_float_model.tflite', 'wb') as f:\n",
        "  f.write(tflite_model)"
      ],
      "execution_count": null,
      "outputs": []
    },
    {
      "cell_type": "markdown",
      "metadata": {
        "id": "5OmOG5m-NC-b"
      },
      "source": [
        "La conversión que se ha hecho es muy básica, usando los parámetros por defecto con los que se configura el conversor. Según el dispositivo en el que se pretenda integrar el modelo como predictor/clasificador, la configuración deberá variar para adaptar el modelo a las características del hardware.\n",
        "\n",
        "A partir de ahora, nos vamos a centrar en reducir los pesos y demás parámetros del modelo en una resolución de integer de 8 bits.\n",
        "\n",
        "- #### **Conversión con cuantización a 8bits (post-training quantization)**\n",
        "\n",
        "\n",
        "1. **Dynamic range quantization** \n",
        "\n",
        "El siguiente ejemplo ilustra el modo más básico para hacer una cuantización (dynamic range quantization)."
      ]
    },
    {
      "cell_type": "code",
      "metadata": {
        "id": "0N1DOyt4KuYo"
      },
      "source": [
        "# Creamos el conversor\n",
        "converter = tf.lite.TFLiteConverter.from_keras_model(clasical_model)\n",
        "# Variamos la configuración, con esta sentencia configuramos el conversor para que cuantice a 8bits\n",
        "converter.optimizations = [tf.lite.Optimize.DEFAULT]\n",
        "# Creamos el modelo de TFLite a partir del conversor\n",
        "tflite_quant_model = converter.convert()"
      ],
      "execution_count": null,
      "outputs": []
    },
    {
      "cell_type": "code",
      "metadata": {
        "id": "oxSaH9KsUmEL",
        "outputId": "ef84117f-078e-445b-fab9-495c874f3d62",
        "colab": {
          "base_uri": "https://localhost:8080/",
          "height": 243
        }
      },
      "source": [
        "# Load the TFLite model and allocate tensors.\n",
        "interpreter = tf.lite.Interpreter(model_content=tflite_quant_model)\n",
        "interpreter.allocate_tensors()\n",
        "\n",
        "# Get input and output tensors.\n",
        "input_details = interpreter.get_input_details()\n",
        "output_details = interpreter.get_output_details()\n",
        "\n",
        "\n",
        "# print('input_details: ', input_details)\n",
        "# print('output_details: ', output_details)\n",
        "\n",
        "\n",
        "# Test the model on random input data.\n",
        "input_shape = input_details[0]['shape']\n",
        "\n",
        "# Es necesario que tanto la forma como el tipo de los datos que componen el \n",
        "# dataset sean los que admita el modelo TFLite configurado. \n",
        "x_test_type_float32 = x_test.astype(np.float32)\n",
        "#print('Tipo de los datos tras la conversión: ', type(x_test_type_float32[0,0,0]))\n",
        "input_data = x_test_type_float32\n",
        "\n",
        "#print('shape', np.shape(input_data))\n",
        "interpreter.resize_tensor_input(input_details[0]['index'],np.shape(input_data))\n",
        "interpreter.allocate_tensors()\n",
        "\n",
        "interpreter.set_tensor(input_details[0]['index'], input_data)\n",
        "\n",
        "interpreter.invoke()\n",
        "\n",
        "# The function `get_tensor()` returns a copy of the tensor data.\n",
        "# Use `tensor()` in order to get a pointer to the tensor.\n",
        "output_data = interpreter.get_tensor(output_details[0]['index'])\n",
        "print(output_data)"
      ],
      "execution_count": null,
      "outputs": [
        {
          "output_type": "stream",
          "text": [
            "[[1.2566631e-10 1.7622706e-16 2.3251163e-11 ... 9.9999893e-01\n",
            "  4.7337832e-11 5.9221722e-10]\n",
            " [5.1546944e-15 4.3821364e-09 1.0000000e+00 ... 2.3296549e-19\n",
            "  2.6585045e-12 7.5742347e-25]\n",
            " [8.1685908e-12 9.9989581e-01 5.0304720e-07 ... 1.0146804e-04\n",
            "  1.5853747e-06 2.1575445e-12]\n",
            " ...\n",
            " [1.1955300e-21 2.5239015e-19 5.7355650e-20 ... 1.0845969e-09\n",
            "  4.6591064e-12 2.3161899e-08]\n",
            " [3.6328360e-20 1.3514612e-21 5.0248896e-21 ... 1.0724173e-16\n",
            "  8.7437524e-10 3.1211369e-18]\n",
            " [1.5543244e-13 3.3786370e-22 4.1415283e-14 ... 7.1372601e-21\n",
            "  8.6888799e-16 2.3248709e-18]]\n"
          ],
          "name": "stdout"
        }
      ]
    },
    {
      "cell_type": "code",
      "metadata": {
        "id": "cwUEkCCQw9D-",
        "outputId": "74880d2c-719c-4dac-d6bd-8a68538ce18e",
        "colab": {
          "base_uri": "https://localhost:8080/",
          "height": 312
        }
      },
      "source": [
        "otras_metricas(output_data, y_test, classes=['0', '1', '2', '3', '4', '5', '6', '7', '8', '9'])"
      ],
      "execution_count": null,
      "outputs": [
        {
          "output_type": "stream",
          "text": [
            "              precision    recall  f1-score   support\n",
            "\n",
            "           0       0.99      0.99      0.99       980\n",
            "           1       1.00      0.99      0.99      1135\n",
            "           2       0.99      0.97      0.98      1032\n",
            "           3       0.97      0.98      0.97      1010\n",
            "           4       0.98      0.98      0.98       982\n",
            "           5       0.98      0.98      0.98       892\n",
            "           6       0.99      0.99      0.99       958\n",
            "           7       0.96      0.99      0.98      1028\n",
            "           8       0.97      0.97      0.97       974\n",
            "           9       0.99      0.97      0.98      1009\n",
            "\n",
            "    accuracy                           0.98     10000\n",
            "   macro avg       0.98      0.98      0.98     10000\n",
            "weighted avg       0.98      0.98      0.98     10000\n",
            "\n"
          ],
          "name": "stdout"
        }
      ]
    },
    {
      "cell_type": "code",
      "metadata": {
        "id": "2kaBzLzMndkS",
        "outputId": "e9dd5a18-e4d7-4dc2-b932-b8e4772c5079",
        "colab": {
          "base_uri": "https://localhost:8080/",
          "height": 747
        }
      },
      "source": [
        "# Calculamos la matriz de confusión de nuestro modelo, comparando los resultados\n",
        "# con las etiquetas del dataset correspondiente a cada muestra\n",
        "cm = confusion_matrix_v2(output_data, y_test)\n",
        "\n",
        "# Mostramos la matriz de confusión de forma intuitiva\n",
        "plot_pretty_confusion_matrix(cm, classes=['0', '1', '2', '3', '4', '5', '6', '7', '8', '9'],\n",
        "                          normalize=True,\n",
        "                          title='Matriz de confusión',\n",
        "                          cmap=plt.cm.Reds)"
      ],
      "execution_count": null,
      "outputs": [
        {
          "output_type": "stream",
          "text": [
            "Normalized confusion matrix\n"
          ],
          "name": "stdout"
        },
        {
          "output_type": "display_data",
          "data": {
            "image/png": "[encoded data removed]",
            "text/plain": [
              "<Figure size 720x720 with 2 Axes>"
            ]
          },
          "metadata": {
            "tags": [],
            "needs_background": "light"
          }
        }
      ]
    },
    {
      "cell_type": "code",
      "metadata": {
        "id": "crpsgClCyiUU"
      },
      "source": [
        "with open('mnist_dynamic_range_quantized_model.tflite', 'wb') as f:\n",
        "  f.write(tflite_quant_model)"
      ],
      "execution_count": null,
      "outputs": []
    },
    {
      "cell_type": "markdown",
      "metadata": {
        "id": "yABwzvAtU8un"
      },
      "source": [
        "2. **Full integer quantization** \n",
        "\n",
        "El modelo anterior, como se ha podido entrever en algunos pasos, aún trabaja con datos a la entrada con coma flotante. Del mismo modo, las salidas del modelo también son en coma flotante. \n",
        "\n",
        "Cuantizar completamente un modelo, esto es, convertir entradas y salidas a una resolución reducida apropiada, puede ser necesario (y de hecho lo es en numerosos casos) para ser ejecutados en microcontroladores y otros computadores, como las novedosas Unidades de Procesamiento Tensorial (TPU) del tipo Edge. \n",
        "\n",
        "Un modelo previamente entranado puede cuantizarse totalmente haciendo uso de TFLite, pero requiere involucrar datos representativos con los que fue entrenado. Son necesarios (presumiblemente) para un reajuste de los valores de salida respecto de las entradas. De forma resumida, se debe calibrar el rango de activación de los nodos de salida (de inferencia, de clasificación) con respecto a las entradas, por lo que es necesario dar ejemplos representantivos en el proceso de conversión para una correcta calibración."
      ]
    },
    {
      "cell_type": "code",
      "metadata": {
        "id": "QqP8j_8EgR0K"
      },
      "source": [
        "# Vamos a usar los datos empleados en el entrenamiento como muestras representativas\n",
        "\n",
        "representative_input = x_train.astype(np.float32)\n",
        "# Nótese que no se usan nada más que las entradas. Como se trata de una\n",
        "# recalibración del modelo para el cambio de resolución, lo que se emplean son \n",
        "# las salidas del modelo cuando se le introduce un dato, no las etiquetas que\n",
        "# usamos como los valores \"verdaderos\". Es interesante saberlo porque esto implica\n",
        "# que no tenemos por qué ceñirnos a datos etiquetados para el calibrado, podemos\n",
        "# usar datos sin etiquetar, los datos de test, o todos a la vez.\n"
      ],
      "execution_count": null,
      "outputs": []
    },
    {
      "cell_type": "code",
      "metadata": {
        "id": "Q0BCZPqaa6IM"
      },
      "source": [
        "# Para incluir las muestras representativas en el conversor, es necesario \n",
        "# proporcionarlas como un generador. Por ello, es necesario crear dicho generador\n",
        "# que convierta los datos en un formato apropiado.\n",
        "\n",
        "mnist_ds = tf.data.Dataset.from_tensor_slices((representative_input)).batch(1)\n",
        "\n",
        "def representative_data_gen():\n",
        "    #for i in range(len(representative_input)):\n",
        "    for image in mnist_ds.take(100):\n",
        "      # image = next(iter(representative_input))\n",
        "      # image = tf.cast(image / 255., tf.float32) # Esto sería necesario en este\n",
        "                                                  # caso, porque estamos usando\n",
        "                                                  # un conjunto con valores y tipo  \n",
        "                                                  # tal y como los que necesita \n",
        "                                                  # el modelo.\n",
        "      # image = tf.expand_dims(image, 0)          # Igual con esto\n",
        "\n",
        "      # Se puede poner un print para no estar en incertidumbre. El proceso puede\n",
        "      # durar según la complejidad del modelo.\n",
        "      #print('Sample #', image)\n",
        "      yield [image]\n",
        "\n",
        "converter = tf.lite.TFLiteConverter.from_keras_model(clasical_model)\n",
        "converter.optimizations = [tf.lite.Optimize.DEFAULT]\n",
        "converter.target_spec.supported_ops = [tf.lite.OpsSet.TFLITE_BUILTINS_INT8]\n",
        "converter.inference_input_type = tf.uint8\n",
        "converter.inference_output_type = tf.uint8\n",
        "converter.representative_dataset = representative_data_gen\n",
        "\n",
        "tflite_full_quant_model = converter.convert()"
      ],
      "execution_count": null,
      "outputs": []
    },
    {
      "cell_type": "code",
      "metadata": {
        "id": "n-hYRvuHA9iq"
      },
      "source": [
        "def adapt_dataset_to_quantized_model(dataset, interpeter_input_details):\n",
        "    \n",
        "    # Check if the input type is quantized, then rescale input data to uint8\n",
        "    if interpeter_input_details['dtype'] == np.uint8:\n",
        "      print('quantization details: ', interpeter_input_details[\"quantization\"])\n",
        "      input_scale, input_zero_point = interpeter_input_details[\"quantization\"]\n",
        "    resulting_dataset = dataset / input_scale + input_zero_point\n",
        "\n",
        "    resulting_dataset = resulting_dataset.astype(interpeter_input_details[\"dtype\"])\n",
        "\n",
        "    return resulting_dataset\n",
        "\n"
      ],
      "execution_count": null,
      "outputs": []
    },
    {
      "cell_type": "code",
      "metadata": {
        "id": "MUUQ8pl1e88x",
        "outputId": "a7ffe388-63e5-451c-85a5-9fe6e6458ba3",
        "colab": {
          "base_uri": "https://localhost:8080/",
          "height": 412
        }
      },
      "source": [
        "# Load the TFLite model and allocate tensors.\n",
        "interpreter = tf.lite.Interpreter(model_content=tflite_full_quant_model)\n",
        "interpreter.allocate_tensors()\n",
        "\n",
        "# Get input and output tensors.\n",
        "input_details = interpreter.get_input_details()\n",
        "output_details = interpreter.get_output_details()\n",
        "\n",
        "\n",
        "print('input_details: ', input_details)\n",
        "print('output_details: ', output_details)\n",
        "\n",
        "\n",
        "# Test the model on random input data.\n",
        "input_shape = input_details[0]['shape']\n",
        "\n",
        "# Es necesario que tanto la forma como el tipo de los datos que componen el \n",
        "# dataset sean los que admita el modelo TFLite configurado. \n",
        "\n",
        "# FAIL ROTUNDO: x_test_type_int8 = x_test.astype(np.uint8)\n",
        "\n",
        "x_test_type_int8 = adapt_dataset_to_quantized_model(x_test, input_details[0])\n",
        "\n",
        "#print('Tipo de los datos tras la conversión: ', type(x_test_type_float32[0,0,0]))\n",
        "input_data = x_test_type_int8\n",
        "\n",
        "#print('shape', np.shape(input_data))\n",
        "interpreter.resize_tensor_input(input_details[0]['index'],np.shape(input_data))\n",
        "interpreter.allocate_tensors()\n",
        "\n",
        "interpreter.set_tensor(input_details[0]['index'], input_data)\n",
        "\n",
        "interpreter.invoke()\n",
        "\n",
        "# The function `get_tensor()` returns a copy of the tensor data.\n",
        "# Use `tensor()` in order to get a pointer to the tensor.\n",
        "output_data = interpreter.get_tensor(output_details[0]['index'])\n",
        "print(output_data)"
      ],
      "execution_count": null,
      "outputs": [
        {
          "output_type": "stream",
          "text": [
            "input_details:  [{'name': 'flatten_input', 'index': 10, 'shape': array([ 1, 28, 28], dtype=int32), 'shape_signature': array([ 1, 28, 28], dtype=int32), 'dtype': <class 'numpy.float32'>, 'quantization': (0.0, 0), 'quantization_parameters': {'scales': array([], dtype=float32), 'zero_points': array([], dtype=int32), 'quantized_dimension': 0}, 'sparsity_parameters': {}}]\n",
            "output_details:  [{'name': 'Identity', 'index': 11, 'shape': array([ 1, 10], dtype=int32), 'shape_signature': array([ 1, 10], dtype=int32), 'dtype': <class 'numpy.float32'>, 'quantization': (0.0, 0), 'quantization_parameters': {'scales': array([], dtype=float32), 'zero_points': array([], dtype=int32), 'quantized_dimension': 0}, 'sparsity_parameters': {}}]\n"
          ],
          "name": "stdout"
        },
        {
          "output_type": "error",
          "ename": "UnboundLocalError",
          "evalue": "ignored",
          "traceback": [
            "\u001b[0;31m---------------------------------------------------------------------------\u001b[0m",
            "\u001b[0;31mUnboundLocalError\u001b[0m                         Traceback (most recent call last)",
            "\u001b[0;32m<ipython-input-33-91325131eaa4>\u001b[0m in \u001b[0;36m<module>\u001b[0;34m()\u001b[0m\n\u001b[1;32m     20\u001b[0m \u001b[0;31m# FAIL ROTUNDO: x_test_type_int8 = x_test.astype(np.uint8)\u001b[0m\u001b[0;34m\u001b[0m\u001b[0;34m\u001b[0m\u001b[0;34m\u001b[0m\u001b[0m\n\u001b[1;32m     21\u001b[0m \u001b[0;34m\u001b[0m\u001b[0m\n\u001b[0;32m---> 22\u001b[0;31m \u001b[0mx_test_type_int8\u001b[0m \u001b[0;34m=\u001b[0m \u001b[0madapt_dataset_to_quantized_model\u001b[0m\u001b[0;34m(\u001b[0m\u001b[0mx_test\u001b[0m\u001b[0;34m,\u001b[0m \u001b[0minput_details\u001b[0m\u001b[0;34m[\u001b[0m\u001b[0;36m0\u001b[0m\u001b[0;34m]\u001b[0m\u001b[0;34m)\u001b[0m\u001b[0;34m\u001b[0m\u001b[0;34m\u001b[0m\u001b[0m\n\u001b[0m\u001b[1;32m     23\u001b[0m \u001b[0;34m\u001b[0m\u001b[0m\n\u001b[1;32m     24\u001b[0m \u001b[0;31m#print('Tipo de los datos tras la conversión: ', type(x_test_type_float32[0,0,0]))\u001b[0m\u001b[0;34m\u001b[0m\u001b[0;34m\u001b[0m\u001b[0;34m\u001b[0m\u001b[0m\n",
            "\u001b[0;32m<ipython-input-32-5b57246640a9>\u001b[0m in \u001b[0;36madapt_dataset_to_quantized_model\u001b[0;34m(dataset, interpeter_input_details)\u001b[0m\n\u001b[1;32m      5\u001b[0m       \u001b[0mprint\u001b[0m\u001b[0;34m(\u001b[0m\u001b[0;34m'quantization details: '\u001b[0m\u001b[0;34m,\u001b[0m \u001b[0minterpeter_input_details\u001b[0m\u001b[0;34m[\u001b[0m\u001b[0;34m\"quantization\"\u001b[0m\u001b[0;34m]\u001b[0m\u001b[0;34m)\u001b[0m\u001b[0;34m\u001b[0m\u001b[0;34m\u001b[0m\u001b[0m\n\u001b[1;32m      6\u001b[0m       \u001b[0minput_scale\u001b[0m\u001b[0;34m,\u001b[0m \u001b[0minput_zero_point\u001b[0m \u001b[0;34m=\u001b[0m \u001b[0minterpeter_input_details\u001b[0m\u001b[0;34m[\u001b[0m\u001b[0;34m\"quantization\"\u001b[0m\u001b[0;34m]\u001b[0m\u001b[0;34m\u001b[0m\u001b[0;34m\u001b[0m\u001b[0m\n\u001b[0;32m----> 7\u001b[0;31m     \u001b[0mresulting_dataset\u001b[0m \u001b[0;34m=\u001b[0m \u001b[0mdataset\u001b[0m \u001b[0;34m/\u001b[0m \u001b[0minput_scale\u001b[0m \u001b[0;34m+\u001b[0m \u001b[0minput_zero_point\u001b[0m\u001b[0;34m\u001b[0m\u001b[0;34m\u001b[0m\u001b[0m\n\u001b[0m\u001b[1;32m      8\u001b[0m \u001b[0;34m\u001b[0m\u001b[0m\n\u001b[1;32m      9\u001b[0m     \u001b[0mresulting_dataset\u001b[0m \u001b[0;34m=\u001b[0m \u001b[0mresulting_dataset\u001b[0m\u001b[0;34m.\u001b[0m\u001b[0mastype\u001b[0m\u001b[0;34m(\u001b[0m\u001b[0minterpeter_input_details\u001b[0m\u001b[0;34m[\u001b[0m\u001b[0;34m\"dtype\"\u001b[0m\u001b[0;34m]\u001b[0m\u001b[0;34m)\u001b[0m\u001b[0;34m\u001b[0m\u001b[0;34m\u001b[0m\u001b[0m\n",
            "\u001b[0;31mUnboundLocalError\u001b[0m: local variable 'input_scale' referenced before assignment"
          ]
        }
      ]
    },
    {
      "cell_type": "code",
      "metadata": {
        "id": "BlAgI4jbbVDY"
      },
      "source": [
        "otras_metricas(output_data, y_test, classes=['0', '1', '2', '3', '4', '5', '6', '7', '8', '9'])"
      ],
      "execution_count": null,
      "outputs": []
    },
    {
      "cell_type": "code",
      "metadata": {
        "id": "7IgcOqReyV6a"
      },
      "source": [
        "# Calculamos la matriz de confusión de nuestro modelo, comparando los resultados\n",
        "# con las etiquetas del dataset correspondiente a cada muestra\n",
        "cm = confusion_matrix_v2(output_data, y_test)\n",
        "\n",
        "# Mostramos la matriz de confusión de forma intuitiva\n",
        "plot_pretty_confusion_matrix(cm, classes=['0', '1', '2', '3', '4', '5', '6', '7', '8', '9'],\n",
        "                          normalize=True,\n",
        "                          title='Matriz de confusión',\n",
        "                          cmap=plt.cm.Reds)"
      ],
      "execution_count": null,
      "outputs": []
    },
    {
      "cell_type": "code",
      "metadata": {
        "id": "IEVj2TGg8N-N"
      },
      "source": [
        "random_mnist_sample_plot(20, x_test_type_int8)"
      ],
      "execution_count": null,
      "outputs": []
    },
    {
      "cell_type": "code",
      "metadata": {
        "id": "c6mABiOv3uNU"
      },
      "source": [
        "with open('mnist_full_quant.tflite', 'wb') as f:\n",
        "  f.write(tflite_full_quant_model)"
      ],
      "execution_count": null,
      "outputs": []
    },
    {
      "cell_type": "code",
      "metadata": {
        "id": "qyK4wL-S0FgF"
      },
      "source": [
        ""
      ],
      "execution_count": null,
      "outputs": []
    },
    {
      "cell_type": "markdown",
      "metadata": {
        "id": "uvLbQEYvobY0"
      },
      "source": [
        "# Nueva sección"
      ]
    }
  ]
}